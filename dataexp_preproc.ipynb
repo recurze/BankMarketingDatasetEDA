{
 "cells": [
  {
   "cell_type": "markdown",
   "id": "4efbdd65-8dc6-403f-9386-6b2ff5237cda",
   "metadata": {
    "editable": true,
    "slideshow": {
     "slide_type": "slide"
    },
    "tags": []
   },
   "source": [
    "## Introduction\n",
    "\n",
    "### Dataset\n",
    "\"Bank Marketing\" by \\[Moro et al., 2011\\].  \n",
    "Data is related to the phone call based direct marketing campaigns used to access if the bank term deposit (product) would be subscribed.\n",
    "\n",
    "### Goals\n",
    "0. Exploratory data analysis.\n",
    "1. Predict/Classify if the client will subscribe."
   ]
  },
  {
   "cell_type": "markdown",
   "id": "61218cff-ed8a-4b4c-94e0-8b87121d9930",
   "metadata": {
    "editable": true,
    "slideshow": {
     "slide_type": "slide"
    },
    "tags": []
   },
   "source": [
    "## Exploratory Data Analysis (EDA)"
   ]
  },
  {
   "cell_type": "code",
   "execution_count": 1,
   "id": "ada28e39-455e-407f-b4e7-fb61af912bd4",
   "metadata": {
    "editable": true,
    "slideshow": {
     "slide_type": "fragment"
    },
    "tags": []
   },
   "outputs": [],
   "source": [
    "import pandas as pd\n",
    "\n",
    "def read_data(filename):\n",
    "    data = pd.read_csv(filename, delimiter=';')\n",
    "    return data.iloc[:, :-1], data['y'].apply(lambda x: 0 if x == \"no\" else 1)"
   ]
  },
  {
   "cell_type": "code",
   "execution_count": 2,
   "id": "7ac3f302-5d98-402b-b9f1-783633b976cb",
   "metadata": {
    "editable": true,
    "slideshow": {
     "slide_type": "fragment"
    },
    "tags": []
   },
   "outputs": [],
   "source": [
    "X, y = read_data('traindata.txt')\n",
    "\n",
    "numerical_columns = [col for col in X.columns if X[col].dtype in [\"int64\", \"float64\"]]\n",
    "categorical_columns = [col for col in X.columns if X[col].dtype in [\"object\"]]"
   ]
  },
  {
   "cell_type": "markdown",
   "id": "e57397dc-d91c-4937-b28b-1e824246e701",
   "metadata": {
    "editable": true,
    "slideshow": {
     "slide_type": "slide"
    },
    "tags": []
   },
   "source": [
    "### Cursory look"
   ]
  },
  {
   "cell_type": "markdown",
   "id": "59cc9db6-812a-4e56-a69a-d231e5ef8a2a",
   "metadata": {},
   "source": [
    "Let's look at some samples."
   ]
  },
  {
   "cell_type": "code",
   "execution_count": 3,
   "id": "d8f851c6-5995-44f3-8319-f06277c64ffe",
   "metadata": {
    "editable": true,
    "slideshow": {
     "slide_type": "fragment"
    },
    "tags": []
   },
   "outputs": [
    {
     "data": {
      "text/html": [
       "<div>\n",
       "<style scoped>\n",
       "    .dataframe tbody tr th:only-of-type {\n",
       "        vertical-align: middle;\n",
       "    }\n",
       "\n",
       "    .dataframe tbody tr th {\n",
       "        vertical-align: top;\n",
       "    }\n",
       "\n",
       "    .dataframe thead th {\n",
       "        text-align: right;\n",
       "    }\n",
       "</style>\n",
       "<table border=\"1\" class=\"dataframe\">\n",
       "  <thead>\n",
       "    <tr style=\"text-align: right;\">\n",
       "      <th></th>\n",
       "      <th>age</th>\n",
       "      <th>job</th>\n",
       "      <th>marital</th>\n",
       "      <th>education</th>\n",
       "      <th>default</th>\n",
       "      <th>balance</th>\n",
       "      <th>housing</th>\n",
       "      <th>loan</th>\n",
       "      <th>contact</th>\n",
       "      <th>day</th>\n",
       "      <th>month</th>\n",
       "      <th>duration</th>\n",
       "      <th>campaign</th>\n",
       "      <th>pdays</th>\n",
       "      <th>previous</th>\n",
       "      <th>poutcome</th>\n",
       "    </tr>\n",
       "  </thead>\n",
       "  <tbody>\n",
       "    <tr>\n",
       "      <th>0</th>\n",
       "      <td>42</td>\n",
       "      <td>technician</td>\n",
       "      <td>divorced</td>\n",
       "      <td>secondary</td>\n",
       "      <td>no</td>\n",
       "      <td>-78</td>\n",
       "      <td>yes</td>\n",
       "      <td>yes</td>\n",
       "      <td>cellular</td>\n",
       "      <td>29</td>\n",
       "      <td>jul</td>\n",
       "      <td>10</td>\n",
       "      <td>23</td>\n",
       "      <td>-1</td>\n",
       "      <td>0</td>\n",
       "      <td>unknown</td>\n",
       "    </tr>\n",
       "    <tr>\n",
       "      <th>1</th>\n",
       "      <td>50</td>\n",
       "      <td>management</td>\n",
       "      <td>married</td>\n",
       "      <td>tertiary</td>\n",
       "      <td>no</td>\n",
       "      <td>106</td>\n",
       "      <td>yes</td>\n",
       "      <td>no</td>\n",
       "      <td>unknown</td>\n",
       "      <td>15</td>\n",
       "      <td>may</td>\n",
       "      <td>388</td>\n",
       "      <td>2</td>\n",
       "      <td>-1</td>\n",
       "      <td>0</td>\n",
       "      <td>unknown</td>\n",
       "    </tr>\n",
       "    <tr>\n",
       "      <th>2</th>\n",
       "      <td>47</td>\n",
       "      <td>admin.</td>\n",
       "      <td>married</td>\n",
       "      <td>secondary</td>\n",
       "      <td>no</td>\n",
       "      <td>407</td>\n",
       "      <td>yes</td>\n",
       "      <td>no</td>\n",
       "      <td>unknown</td>\n",
       "      <td>5</td>\n",
       "      <td>jun</td>\n",
       "      <td>67</td>\n",
       "      <td>12</td>\n",
       "      <td>-1</td>\n",
       "      <td>0</td>\n",
       "      <td>unknown</td>\n",
       "    </tr>\n",
       "    <tr>\n",
       "      <th>3</th>\n",
       "      <td>39</td>\n",
       "      <td>admin.</td>\n",
       "      <td>divorced</td>\n",
       "      <td>secondary</td>\n",
       "      <td>no</td>\n",
       "      <td>952</td>\n",
       "      <td>yes</td>\n",
       "      <td>no</td>\n",
       "      <td>unknown</td>\n",
       "      <td>16</td>\n",
       "      <td>jun</td>\n",
       "      <td>62</td>\n",
       "      <td>1</td>\n",
       "      <td>-1</td>\n",
       "      <td>0</td>\n",
       "      <td>unknown</td>\n",
       "    </tr>\n",
       "    <tr>\n",
       "      <th>4</th>\n",
       "      <td>30</td>\n",
       "      <td>management</td>\n",
       "      <td>single</td>\n",
       "      <td>tertiary</td>\n",
       "      <td>no</td>\n",
       "      <td>364</td>\n",
       "      <td>no</td>\n",
       "      <td>no</td>\n",
       "      <td>cellular</td>\n",
       "      <td>30</td>\n",
       "      <td>apr</td>\n",
       "      <td>306</td>\n",
       "      <td>2</td>\n",
       "      <td>-1</td>\n",
       "      <td>0</td>\n",
       "      <td>unknown</td>\n",
       "    </tr>\n",
       "  </tbody>\n",
       "</table>\n",
       "</div>"
      ],
      "text/plain": [
       "   age         job   marital  education default  balance housing loan  \\\n",
       "0   42  technician  divorced  secondary      no      -78     yes  yes   \n",
       "1   50  management   married   tertiary      no      106     yes   no   \n",
       "2   47      admin.   married  secondary      no      407     yes   no   \n",
       "3   39      admin.  divorced  secondary      no      952     yes   no   \n",
       "4   30  management    single   tertiary      no      364      no   no   \n",
       "\n",
       "    contact  day month  duration  campaign  pdays  previous poutcome  \n",
       "0  cellular   29   jul        10        23     -1         0  unknown  \n",
       "1   unknown   15   may       388         2     -1         0  unknown  \n",
       "2   unknown    5   jun        67        12     -1         0  unknown  \n",
       "3   unknown   16   jun        62         1     -1         0  unknown  \n",
       "4  cellular   30   apr       306         2     -1         0  unknown  "
      ]
     },
     "execution_count": 3,
     "metadata": {},
     "output_type": "execute_result"
    }
   ],
   "source": [
    "X.head()"
   ]
  },
  {
   "cell_type": "markdown",
   "id": "438c2770-ec2b-429c-b79b-ccbbcb6f584f",
   "metadata": {
    "editable": true,
    "slideshow": {
     "slide_type": "slide"
    },
    "tags": []
   },
   "source": [
    "Now, let's get the shape of the data and data types of the columns."
   ]
  },
  {
   "cell_type": "code",
   "execution_count": 4,
   "id": "0e359d6e-599f-45df-b833-3e3ca0d5568e",
   "metadata": {
    "editable": true,
    "slideshow": {
     "slide_type": "fragment"
    },
    "tags": []
   },
   "outputs": [
    {
     "name": "stdout",
     "output_type": "stream",
     "text": [
      "<class 'pandas.core.frame.DataFrame'>\n",
      "RangeIndex: 36168 entries, 0 to 36167\n",
      "Data columns (total 16 columns):\n",
      " #   Column     Non-Null Count  Dtype \n",
      "---  ------     --------------  ----- \n",
      " 0   age        36168 non-null  int64 \n",
      " 1   job        36168 non-null  object\n",
      " 2   marital    36168 non-null  object\n",
      " 3   education  36168 non-null  object\n",
      " 4   default    36168 non-null  object\n",
      " 5   balance    36168 non-null  int64 \n",
      " 6   housing    36168 non-null  object\n",
      " 7   loan       36168 non-null  object\n",
      " 8   contact    36168 non-null  object\n",
      " 9   day        36168 non-null  int64 \n",
      " 10  month      36168 non-null  object\n",
      " 11  duration   36168 non-null  int64 \n",
      " 12  campaign   36168 non-null  int64 \n",
      " 13  pdays      36168 non-null  int64 \n",
      " 14  previous   36168 non-null  int64 \n",
      " 15  poutcome   36168 non-null  object\n",
      "dtypes: int64(7), object(9)\n",
      "memory usage: 4.4+ MB\n"
     ]
    }
   ],
   "source": [
    "X.info()"
   ]
  },
  {
   "cell_type": "markdown",
   "id": "8b9030d5-57f3-441a-a60f-be9a1764c910",
   "metadata": {
    "editable": true,
    "slideshow": {
     "slide_type": "slide"
    },
    "tags": []
   },
   "source": [
    "Marketing calls are annoying."
   ]
  },
  {
   "cell_type": "code",
   "execution_count": 5,
   "id": "39e868b8-bce9-4e7e-bacf-2cae62848ba9",
   "metadata": {
    "editable": true,
    "slideshow": {
     "slide_type": "fragment"
    },
    "tags": []
   },
   "outputs": [
    {
     "data": {
      "text/plain": [
       "0    31937\n",
       "1     4231\n",
       "Name: y, dtype: int64"
      ]
     },
     "execution_count": 5,
     "metadata": {},
     "output_type": "execute_result"
    }
   ],
   "source": [
    "y.value_counts()"
   ]
  },
  {
   "cell_type": "markdown",
   "id": "971465d4-2bd5-4749-be10-e47ead8911d6",
   "metadata": {
    "editable": true,
    "slideshow": {
     "slide_type": "fragment"
    },
    "tags": []
   },
   "source": [
    "* Lopsided data: Only 12% belong to class 1 (\"yes\")\n",
    "* Imbalanced Classification; Outlier/novelty detection"
   ]
  },
  {
   "cell_type": "markdown",
   "id": "dbb4bf7e-4137-4e3c-9415-24aa4cb3fe18",
   "metadata": {},
   "source": [
    "### Numerical Columns"
   ]
  },
  {
   "cell_type": "code",
   "execution_count": 6,
   "id": "6983301a-0c05-49b1-b614-3e60f52301f3",
   "metadata": {
    "editable": true,
    "slideshow": {
     "slide_type": "slide"
    },
    "tags": []
   },
   "outputs": [
    {
     "data": {
      "text/html": [
       "<div>\n",
       "<style scoped>\n",
       "    .dataframe tbody tr th:only-of-type {\n",
       "        vertical-align: middle;\n",
       "    }\n",
       "\n",
       "    .dataframe tbody tr th {\n",
       "        vertical-align: top;\n",
       "    }\n",
       "\n",
       "    .dataframe thead th {\n",
       "        text-align: right;\n",
       "    }\n",
       "</style>\n",
       "<table border=\"1\" class=\"dataframe\">\n",
       "  <thead>\n",
       "    <tr style=\"text-align: right;\">\n",
       "      <th></th>\n",
       "      <th>age</th>\n",
       "      <th>balance</th>\n",
       "      <th>day</th>\n",
       "      <th>duration</th>\n",
       "      <th>campaign</th>\n",
       "      <th>pdays</th>\n",
       "      <th>previous</th>\n",
       "    </tr>\n",
       "  </thead>\n",
       "  <tbody>\n",
       "    <tr>\n",
       "      <th>count</th>\n",
       "      <td>36168.000000</td>\n",
       "      <td>36168.000000</td>\n",
       "      <td>36168.000000</td>\n",
       "      <td>36168.000000</td>\n",
       "      <td>36168.000000</td>\n",
       "      <td>36168.000000</td>\n",
       "      <td>36168.000000</td>\n",
       "    </tr>\n",
       "    <tr>\n",
       "      <th>mean</th>\n",
       "      <td>40.942076</td>\n",
       "      <td>1365.055989</td>\n",
       "      <td>15.778534</td>\n",
       "      <td>258.363166</td>\n",
       "      <td>2.769907</td>\n",
       "      <td>39.749889</td>\n",
       "      <td>0.579601</td>\n",
       "    </tr>\n",
       "    <tr>\n",
       "      <th>std</th>\n",
       "      <td>10.616610</td>\n",
       "      <td>3098.191637</td>\n",
       "      <td>8.313360</td>\n",
       "      <td>257.188052</td>\n",
       "      <td>3.119367</td>\n",
       "      <td>99.547099</td>\n",
       "      <td>2.384831</td>\n",
       "    </tr>\n",
       "    <tr>\n",
       "      <th>min</th>\n",
       "      <td>18.000000</td>\n",
       "      <td>-8019.000000</td>\n",
       "      <td>1.000000</td>\n",
       "      <td>0.000000</td>\n",
       "      <td>1.000000</td>\n",
       "      <td>-1.000000</td>\n",
       "      <td>0.000000</td>\n",
       "    </tr>\n",
       "    <tr>\n",
       "      <th>25%</th>\n",
       "      <td>33.000000</td>\n",
       "      <td>72.000000</td>\n",
       "      <td>8.000000</td>\n",
       "      <td>103.000000</td>\n",
       "      <td>1.000000</td>\n",
       "      <td>-1.000000</td>\n",
       "      <td>0.000000</td>\n",
       "    </tr>\n",
       "    <tr>\n",
       "      <th>50%</th>\n",
       "      <td>39.000000</td>\n",
       "      <td>448.000000</td>\n",
       "      <td>16.000000</td>\n",
       "      <td>180.000000</td>\n",
       "      <td>2.000000</td>\n",
       "      <td>-1.000000</td>\n",
       "      <td>0.000000</td>\n",
       "    </tr>\n",
       "    <tr>\n",
       "      <th>75%</th>\n",
       "      <td>48.000000</td>\n",
       "      <td>1422.250000</td>\n",
       "      <td>21.000000</td>\n",
       "      <td>320.000000</td>\n",
       "      <td>3.000000</td>\n",
       "      <td>-1.000000</td>\n",
       "      <td>0.000000</td>\n",
       "    </tr>\n",
       "    <tr>\n",
       "      <th>max</th>\n",
       "      <td>95.000000</td>\n",
       "      <td>102127.000000</td>\n",
       "      <td>31.000000</td>\n",
       "      <td>4918.000000</td>\n",
       "      <td>63.000000</td>\n",
       "      <td>871.000000</td>\n",
       "      <td>275.000000</td>\n",
       "    </tr>\n",
       "  </tbody>\n",
       "</table>\n",
       "</div>"
      ],
      "text/plain": [
       "                age        balance           day      duration      campaign  \\\n",
       "count  36168.000000   36168.000000  36168.000000  36168.000000  36168.000000   \n",
       "mean      40.942076    1365.055989     15.778534    258.363166      2.769907   \n",
       "std       10.616610    3098.191637      8.313360    257.188052      3.119367   \n",
       "min       18.000000   -8019.000000      1.000000      0.000000      1.000000   \n",
       "25%       33.000000      72.000000      8.000000    103.000000      1.000000   \n",
       "50%       39.000000     448.000000     16.000000    180.000000      2.000000   \n",
       "75%       48.000000    1422.250000     21.000000    320.000000      3.000000   \n",
       "max       95.000000  102127.000000     31.000000   4918.000000     63.000000   \n",
       "\n",
       "              pdays      previous  \n",
       "count  36168.000000  36168.000000  \n",
       "mean      39.749889      0.579601  \n",
       "std       99.547099      2.384831  \n",
       "min       -1.000000      0.000000  \n",
       "25%       -1.000000      0.000000  \n",
       "50%       -1.000000      0.000000  \n",
       "75%       -1.000000      0.000000  \n",
       "max      871.000000    275.000000  "
      ]
     },
     "execution_count": 6,
     "metadata": {},
     "output_type": "execute_result"
    }
   ],
   "source": [
    "X[numerical_columns].describe()"
   ]
  },
  {
   "cell_type": "markdown",
   "id": "b4b96e9b-2c50-46e3-ba60-7f1ebdd9734d",
   "metadata": {
    "editable": true,
    "slideshow": {
     "slide_type": "slide"
    },
    "tags": []
   },
   "source": [
    "#### Remove outliers\n",
    "\n",
    "Outliers: outside 3rd standard deviation"
   ]
  },
  {
   "cell_type": "code",
   "execution_count": 7,
   "id": "29e5bda9-2fe5-4fd3-a85c-e283a3f4aed0",
   "metadata": {
    "editable": true,
    "slideshow": {
     "slide_type": "skip"
    },
    "tags": []
   },
   "outputs": [],
   "source": [
    "def remove_outliers(X, y, columns, std_threshold=3):\n",
    "    outlier_condition = False\n",
    "    for col in columns:\n",
    "        mean, std = X[col].mean(), X[col].std()\n",
    "        lower, higher = mean - std*std_threshold, mean + std*std_threshold\n",
    "        outlier_condition |= ((X[col] < lower) | (X[col] > higher))\n",
    "        \n",
    "    outlier_indices = X[outlier_condition].index\n",
    "    return X.drop(outlier_indices), y.drop(outlier_indices)"
   ]
  },
  {
   "cell_type": "code",
   "execution_count": 8,
   "id": "48466553-3e7e-40d1-b5f4-f6c160a26245",
   "metadata": {
    "editable": true,
    "slideshow": {
     "slide_type": "fragment"
    },
    "tags": []
   },
   "outputs": [],
   "source": [
    "# Only applying to train data, so not including in Pipeline later\n",
    "X, y = remove_outliers(X, y, numerical_columns)"
   ]
  },
  {
   "cell_type": "code",
   "execution_count": 9,
   "id": "780aa4c0-7432-4b25-ba24-63a4dc8aba4c",
   "metadata": {
    "editable": true,
    "slideshow": {
     "slide_type": "fragment"
    },
    "tags": []
   },
   "outputs": [
    {
     "data": {
      "text/plain": [
       "0    28900\n",
       "1     3238\n",
       "Name: y, dtype: int64"
      ]
     },
     "execution_count": 9,
     "metadata": {},
     "output_type": "execute_result"
    }
   ],
   "source": [
    "y.value_counts()"
   ]
  },
  {
   "cell_type": "code",
   "execution_count": 10,
   "id": "fcf06e38-4f05-46d8-8b10-d1a343234426",
   "metadata": {
    "editable": true,
    "slideshow": {
     "slide_type": "slide"
    },
    "tags": []
   },
   "outputs": [
    {
     "data": {
      "text/html": [
       "<div>\n",
       "<style scoped>\n",
       "    .dataframe tbody tr th:only-of-type {\n",
       "        vertical-align: middle;\n",
       "    }\n",
       "\n",
       "    .dataframe tbody tr th {\n",
       "        vertical-align: top;\n",
       "    }\n",
       "\n",
       "    .dataframe thead th {\n",
       "        text-align: right;\n",
       "    }\n",
       "</style>\n",
       "<table border=\"1\" class=\"dataframe\">\n",
       "  <thead>\n",
       "    <tr style=\"text-align: right;\">\n",
       "      <th></th>\n",
       "      <th>age</th>\n",
       "      <th>balance</th>\n",
       "      <th>day</th>\n",
       "      <th>duration</th>\n",
       "      <th>campaign</th>\n",
       "      <th>pdays</th>\n",
       "      <th>previous</th>\n",
       "    </tr>\n",
       "  </thead>\n",
       "  <tbody>\n",
       "    <tr>\n",
       "      <th>count</th>\n",
       "      <td>32138.000000</td>\n",
       "      <td>32138.000000</td>\n",
       "      <td>32138.000000</td>\n",
       "      <td>32138.000000</td>\n",
       "      <td>32138.000000</td>\n",
       "      <td>32138.000000</td>\n",
       "      <td>32138.000000</td>\n",
       "    </tr>\n",
       "    <tr>\n",
       "      <th>mean</th>\n",
       "      <td>40.667154</td>\n",
       "      <td>1087.224936</td>\n",
       "      <td>15.791275</td>\n",
       "      <td>235.804282</td>\n",
       "      <td>2.468417</td>\n",
       "      <td>24.447570</td>\n",
       "      <td>0.346195</td>\n",
       "    </tr>\n",
       "    <tr>\n",
       "      <th>std</th>\n",
       "      <td>10.074438</td>\n",
       "      <td>1737.521845</td>\n",
       "      <td>8.352381</td>\n",
       "      <td>190.210357</td>\n",
       "      <td>1.959055</td>\n",
       "      <td>70.329569</td>\n",
       "      <td>1.048357</td>\n",
       "    </tr>\n",
       "    <tr>\n",
       "      <th>min</th>\n",
       "      <td>18.000000</td>\n",
       "      <td>-6847.000000</td>\n",
       "      <td>1.000000</td>\n",
       "      <td>0.000000</td>\n",
       "      <td>1.000000</td>\n",
       "      <td>-1.000000</td>\n",
       "      <td>0.000000</td>\n",
       "    </tr>\n",
       "    <tr>\n",
       "      <th>25%</th>\n",
       "      <td>33.000000</td>\n",
       "      <td>66.000000</td>\n",
       "      <td>8.000000</td>\n",
       "      <td>104.000000</td>\n",
       "      <td>1.000000</td>\n",
       "      <td>-1.000000</td>\n",
       "      <td>0.000000</td>\n",
       "    </tr>\n",
       "    <tr>\n",
       "      <th>50%</th>\n",
       "      <td>39.000000</td>\n",
       "      <td>430.000000</td>\n",
       "      <td>16.000000</td>\n",
       "      <td>178.000000</td>\n",
       "      <td>2.000000</td>\n",
       "      <td>-1.000000</td>\n",
       "      <td>0.000000</td>\n",
       "    </tr>\n",
       "    <tr>\n",
       "      <th>75%</th>\n",
       "      <td>48.000000</td>\n",
       "      <td>1340.000000</td>\n",
       "      <td>21.000000</td>\n",
       "      <td>307.000000</td>\n",
       "      <td>3.000000</td>\n",
       "      <td>-1.000000</td>\n",
       "      <td>0.000000</td>\n",
       "    </tr>\n",
       "    <tr>\n",
       "      <th>max</th>\n",
       "      <td>72.000000</td>\n",
       "      <td>10653.000000</td>\n",
       "      <td>31.000000</td>\n",
       "      <td>1029.000000</td>\n",
       "      <td>12.000000</td>\n",
       "      <td>338.000000</td>\n",
       "      <td>7.000000</td>\n",
       "    </tr>\n",
       "  </tbody>\n",
       "</table>\n",
       "</div>"
      ],
      "text/plain": [
       "                age       balance           day      duration      campaign  \\\n",
       "count  32138.000000  32138.000000  32138.000000  32138.000000  32138.000000   \n",
       "mean      40.667154   1087.224936     15.791275    235.804282      2.468417   \n",
       "std       10.074438   1737.521845      8.352381    190.210357      1.959055   \n",
       "min       18.000000  -6847.000000      1.000000      0.000000      1.000000   \n",
       "25%       33.000000     66.000000      8.000000    104.000000      1.000000   \n",
       "50%       39.000000    430.000000     16.000000    178.000000      2.000000   \n",
       "75%       48.000000   1340.000000     21.000000    307.000000      3.000000   \n",
       "max       72.000000  10653.000000     31.000000   1029.000000     12.000000   \n",
       "\n",
       "              pdays      previous  \n",
       "count  32138.000000  32138.000000  \n",
       "mean      24.447570      0.346195  \n",
       "std       70.329569      1.048357  \n",
       "min       -1.000000      0.000000  \n",
       "25%       -1.000000      0.000000  \n",
       "50%       -1.000000      0.000000  \n",
       "75%       -1.000000      0.000000  \n",
       "max      338.000000      7.000000  "
      ]
     },
     "execution_count": 10,
     "metadata": {},
     "output_type": "execute_result"
    }
   ],
   "source": [
    "X[numerical_columns].describe()"
   ]
  },
  {
   "cell_type": "code",
   "execution_count": 11,
   "id": "00372edd-7593-45df-875f-c9a71622e898",
   "metadata": {
    "editable": true,
    "slideshow": {
     "slide_type": "subslide"
    },
    "tags": []
   },
   "outputs": [
    {
     "data": {
      "text/html": [
       "<div>\n",
       "<style scoped>\n",
       "    .dataframe tbody tr th:only-of-type {\n",
       "        vertical-align: middle;\n",
       "    }\n",
       "\n",
       "    .dataframe tbody tr th {\n",
       "        vertical-align: top;\n",
       "    }\n",
       "\n",
       "    .dataframe thead th {\n",
       "        text-align: right;\n",
       "    }\n",
       "</style>\n",
       "<table border=\"1\" class=\"dataframe\">\n",
       "  <thead>\n",
       "    <tr style=\"text-align: right;\">\n",
       "      <th></th>\n",
       "      <th>age</th>\n",
       "      <th>balance</th>\n",
       "      <th>day</th>\n",
       "      <th>duration</th>\n",
       "      <th>campaign</th>\n",
       "      <th>pdays</th>\n",
       "      <th>previous</th>\n",
       "    </tr>\n",
       "  </thead>\n",
       "  <tbody>\n",
       "    <tr>\n",
       "      <th>count</th>\n",
       "      <td>3238.000000</td>\n",
       "      <td>3238.000000</td>\n",
       "      <td>3238.000000</td>\n",
       "      <td>3238.00000</td>\n",
       "      <td>3238.000000</td>\n",
       "      <td>3238.000000</td>\n",
       "      <td>3238.000000</td>\n",
       "    </tr>\n",
       "    <tr>\n",
       "      <th>mean</th>\n",
       "      <td>40.483941</td>\n",
       "      <td>1439.017295</td>\n",
       "      <td>15.024707</td>\n",
       "      <td>441.97097</td>\n",
       "      <td>2.014515</td>\n",
       "      <td>49.342804</td>\n",
       "      <td>0.870908</td>\n",
       "    </tr>\n",
       "    <tr>\n",
       "      <th>std</th>\n",
       "      <td>12.170205</td>\n",
       "      <td>1898.239956</td>\n",
       "      <td>8.546408</td>\n",
       "      <td>250.44624</td>\n",
       "      <td>1.512007</td>\n",
       "      <td>82.572857</td>\n",
       "      <td>1.577769</td>\n",
       "    </tr>\n",
       "    <tr>\n",
       "      <th>min</th>\n",
       "      <td>18.000000</td>\n",
       "      <td>-3058.000000</td>\n",
       "      <td>1.000000</td>\n",
       "      <td>8.00000</td>\n",
       "      <td>1.000000</td>\n",
       "      <td>-1.000000</td>\n",
       "      <td>0.000000</td>\n",
       "    </tr>\n",
       "    <tr>\n",
       "      <th>25%</th>\n",
       "      <td>31.000000</td>\n",
       "      <td>198.000000</td>\n",
       "      <td>8.000000</td>\n",
       "      <td>231.25000</td>\n",
       "      <td>1.000000</td>\n",
       "      <td>-1.000000</td>\n",
       "      <td>0.000000</td>\n",
       "    </tr>\n",
       "    <tr>\n",
       "      <th>50%</th>\n",
       "      <td>37.000000</td>\n",
       "      <td>687.000000</td>\n",
       "      <td>15.000000</td>\n",
       "      <td>387.00000</td>\n",
       "      <td>2.000000</td>\n",
       "      <td>-1.000000</td>\n",
       "      <td>0.000000</td>\n",
       "    </tr>\n",
       "    <tr>\n",
       "      <th>75%</th>\n",
       "      <td>49.000000</td>\n",
       "      <td>1992.750000</td>\n",
       "      <td>21.000000</td>\n",
       "      <td>630.00000</td>\n",
       "      <td>2.000000</td>\n",
       "      <td>92.000000</td>\n",
       "      <td>1.000000</td>\n",
       "    </tr>\n",
       "    <tr>\n",
       "      <th>max</th>\n",
       "      <td>72.000000</td>\n",
       "      <td>10596.000000</td>\n",
       "      <td>31.000000</td>\n",
       "      <td>1029.00000</td>\n",
       "      <td>12.000000</td>\n",
       "      <td>337.000000</td>\n",
       "      <td>7.000000</td>\n",
       "    </tr>\n",
       "  </tbody>\n",
       "</table>\n",
       "</div>"
      ],
      "text/plain": [
       "               age       balance          day    duration     campaign  \\\n",
       "count  3238.000000   3238.000000  3238.000000  3238.00000  3238.000000   \n",
       "mean     40.483941   1439.017295    15.024707   441.97097     2.014515   \n",
       "std      12.170205   1898.239956     8.546408   250.44624     1.512007   \n",
       "min      18.000000  -3058.000000     1.000000     8.00000     1.000000   \n",
       "25%      31.000000    198.000000     8.000000   231.25000     1.000000   \n",
       "50%      37.000000    687.000000    15.000000   387.00000     2.000000   \n",
       "75%      49.000000   1992.750000    21.000000   630.00000     2.000000   \n",
       "max      72.000000  10596.000000    31.000000  1029.00000    12.000000   \n",
       "\n",
       "             pdays     previous  \n",
       "count  3238.000000  3238.000000  \n",
       "mean     49.342804     0.870908  \n",
       "std      82.572857     1.577769  \n",
       "min      -1.000000     0.000000  \n",
       "25%      -1.000000     0.000000  \n",
       "50%      -1.000000     0.000000  \n",
       "75%      92.000000     1.000000  \n",
       "max     337.000000     7.000000  "
      ]
     },
     "execution_count": 11,
     "metadata": {},
     "output_type": "execute_result"
    }
   ],
   "source": [
    "X[y == 1][numerical_columns].describe()"
   ]
  },
  {
   "cell_type": "markdown",
   "id": "da3fa52b-16ee-4e47-b93f-42b781dd3737",
   "metadata": {
    "editable": true,
    "slideshow": {
     "slide_type": "fragment"
    },
    "tags": []
   },
   "source": [
    "Comparing metrics when the outcome is \"yes\"\n",
    "* Mean duration: 235 vs 442\n",
    "* Mean balance: 1087 vs 1439"
   ]
  },
  {
   "cell_type": "markdown",
   "id": "00ca6881-9c06-4ddf-bfd5-3ddfb1f6689a",
   "metadata": {
    "editable": true,
    "slideshow": {
     "slide_type": "slide"
    },
    "tags": []
   },
   "source": [
    "#### Analyzing `day`\n",
    "\n",
    "Q. Does day-of-the-month `day` matter?  \n",
    "A. Probably doesn't affect the client. Maybe day-of-the-week might've helped, but we can't deduce that."
   ]
  },
  {
   "cell_type": "code",
   "execution_count": 12,
   "id": "ea8b7be1-b0a6-4d2c-a81c-1803d1000d6e",
   "metadata": {
    "editable": true,
    "slideshow": {
     "slide_type": "fragment"
    },
    "tags": []
   },
   "outputs": [
    {
     "data": {
      "text/plain": [
       "Text(0.5, 1.0, 'Contacted vs subscribed')"
      ]
     },
     "execution_count": 12,
     "metadata": {},
     "output_type": "execute_result"
    },
    {
     "data": {
      "image/png": "[encoded data removed]",
      "text/plain": [
       "<Figure size 640x480 with 1 Axes>"
      ]
     },
     "metadata": {},
     "output_type": "display_data"
    }
   ],
   "source": [
    "import matplotlib.pyplot as plt\n",
    "\n",
    "X.day.hist(bins=31)\n",
    "X[y == 1].day.hist(bins=31)\n",
    "\n",
    "plt.xlabel('day')\n",
    "plt.ylabel('humans')\n",
    "plt.title('Contacted vs subscribed')"
   ]
  },
  {
   "cell_type": "markdown",
   "id": "6f8edeb3-16e0-44dd-b1b4-c01d3021b84b",
   "metadata": {},
   "source": [
    "#### Dropping columns\n",
    "\n",
    "Q. So should we drop the column?  \n",
    "A. 3 ways to handle this:\n",
    "1. Human intuition.  \n",
    "    a. Machine sees something humans can't.  \n",
    "    b. Machine sees something that doesn't make sense.  \n",
    "3. Leave it to the feature selector.\n",
    "4. Leave it to the model to select."
   ]
  },
  {
   "cell_type": "code",
   "execution_count": 13,
   "id": "6a5176f2-034e-413d-8d36-46ae5ead6fd3",
   "metadata": {
    "editable": true,
    "slideshow": {
     "slide_type": "skip"
    },
    "tags": []
   },
   "outputs": [],
   "source": [
    "def drop_columns(columns):\n",
    "    for col in columns:\n",
    "        if col in numerical_columns:\n",
    "            numerical_columns.remove(col)\n",
    "        if col in categorical_columns:\n",
    "            categorical_columns.remove(col)"
   ]
  },
  {
   "cell_type": "code",
   "execution_count": 14,
   "id": "b43c0b25-921e-4340-8fa5-a88f59fe6ec7",
   "metadata": {},
   "outputs": [],
   "source": [
    "drop_columns(['day'])"
   ]
  },
  {
   "cell_type": "code",
   "execution_count": 15,
   "id": "983e8048-a086-4688-ac23-2eca2e5d4b47",
   "metadata": {
    "editable": true,
    "slideshow": {
     "slide_type": "slide"
    },
    "tags": []
   },
   "outputs": [
    {
     "data": {
      "text/plain": [
       "array([<Axes: title={'center': 'age'}>,\n",
       "       <Axes: title={'center': 'balance'}>,\n",
       "       <Axes: title={'center': 'duration'}>,\n",
       "       <Axes: title={'center': 'campaign'}>,\n",
       "       <Axes: title={'center': 'pdays'}>,\n",
       "       <Axes: title={'center': 'previous'}>], dtype=object)"
      ]
     },
     "execution_count": 15,
     "metadata": {},
     "output_type": "execute_result"
    },
    {
     "data": {
      "image/png": "[encoded data removed]",
      "text/plain": [
       "<Figure size 1400x1200 with 6 Axes>"
      ]
     },
     "metadata": {},
     "output_type": "display_data"
    }
   ],
   "source": [
    "axes = X[numerical_columns].hist(bins=50, figsize=(14, 12))\n",
    "X[y == 1][numerical_columns].hist(ax=axes.ravel()[:len(numerical_columns)], bins=50,  color='r')"
   ]
  },
  {
   "cell_type": "markdown",
   "id": "a0bb6d50-b2ee-4d87-91d7-ea7e148c0310",
   "metadata": {
    "editable": true,
    "slideshow": {
     "slide_type": ""
    },
    "tags": []
   },
   "source": [
    "#### Analyzing `pdays`, `previous` and `poutcome`\n",
    "\n",
    "Most of the clients were not contacted in the previous campaign. Is there a better way to handle this?"
   ]
  },
  {
   "cell_type": "code",
   "execution_count": 16,
   "id": "5df89301-d919-4e00-b1b0-05823b9b0e9a",
   "metadata": {
    "editable": true,
    "slideshow": {
     "slide_type": "slide"
    },
    "tags": []
   },
   "outputs": [
    {
     "data": {
      "text/plain": [
       "Text(0.5, 1.0, 'Contacted vs subscribed')"
      ]
     },
     "execution_count": 16,
     "metadata": {},
     "output_type": "execute_result"
    },
    {
     "data": {
      "image/png": "[encoded data removed]",
      "text/plain": [
       "<Figure size 640x480 with 1 Axes>"
      ]
     },
     "metadata": {},
     "output_type": "display_data"
    }
   ],
   "source": [
    "X[X.pdays != -1].pdays.hist(bins=40)\n",
    "X[y == 1][X[y == 1].pdays != -1].pdays.hist(bins=40)\n",
    "\n",
    "plt.xlabel('pdays')\n",
    "plt.ylabel('humans')\n",
    "plt.title('Contacted vs subscribed')"
   ]
  },
  {
   "cell_type": "code",
   "execution_count": 17,
   "id": "0bf6896a-5017-46bf-be82-64fbffb36ee8",
   "metadata": {
    "editable": true,
    "slideshow": {
     "slide_type": "skip"
    },
    "tags": []
   },
   "outputs": [],
   "source": [
    "def discretize_pdays(d):\n",
    "    return \\\n",
    "        'never' if d == -1 else \\\n",
    "        '1w' if d <= 7 else \\\n",
    "        '1m' if d <= 30 else \\\n",
    "        '6m' if d <= 180 else \\\n",
    "        '1y' if d <= 365 else \\\n",
    "        '2y' if d <= 730 else \\\n",
    "        'old'"
   ]
  },
  {
   "cell_type": "code",
   "execution_count": 18,
   "id": "3e313082-2032-4459-96b6-c65a25a6b531",
   "metadata": {
    "editable": true,
    "slideshow": {
     "slide_type": "fragment"
    },
    "tags": []
   },
   "outputs": [
    {
     "data": {
      "image/png": "[encoded data removed]",
      "text/plain": [
       "<Figure size 640x480 with 1 Axes>"
      ]
     },
     "metadata": {},
     "output_type": "display_data"
    }
   ],
   "source": [
    "X['discrete_pdays'] = X.pdays.apply(discretize_pdays)\n",
    "\n",
    "ax = pd.crosstab(X.discrete_pdays, y).loc[['never', '1w', '1m', '6m', '1y']].plot(kind='bar')\n",
    "#display_percentages(ax)"
   ]
  },
  {
   "cell_type": "code",
   "execution_count": 19,
   "id": "75a1313a-afad-4fef-8e32-a109e09a3275",
   "metadata": {},
   "outputs": [],
   "source": [
    "X = X.drop('discrete_pdays', axis=1)"
   ]
  },
  {
   "cell_type": "code",
   "execution_count": 20,
   "id": "106235e0-0811-4938-b961-2af3b2c71afd",
   "metadata": {
    "editable": true,
    "slideshow": {
     "slide_type": "fragment"
    },
    "tags": []
   },
   "outputs": [
    {
     "data": {
      "text/plain": [
       "Text(0.5, 1.0, 'Contacted vs subscribed')"
      ]
     },
     "execution_count": 20,
     "metadata": {},
     "output_type": "execute_result"
    },
    {
     "data": {
      "image/png": "[encoded data removed]",
      "text/plain": [
       "<Figure size 640x480 with 1 Axes>"
      ]
     },
     "metadata": {},
     "output_type": "display_data"
    }
   ],
   "source": [
    "X[X.previous != 0].previous.hist(bins=40)\n",
    "X[y == 1][X[y == 1].previous != 0].previous.hist(bins=40)\n",
    "\n",
    "plt.xlabel('previous')\n",
    "plt.ylabel('humans')\n",
    "plt.title('Contacted vs subscribed')"
   ]
  },
  {
   "cell_type": "code",
   "execution_count": 21,
   "id": "de7baba0-17ee-4d21-a43d-e933a44306b6",
   "metadata": {},
   "outputs": [
    {
     "data": {
      "text/plain": [
       "(31160, 16)"
      ]
     },
     "execution_count": 21,
     "metadata": {},
     "output_type": "execute_result"
    }
   ],
   "source": [
    "X[X.age < 60].shape"
   ]
  },
  {
   "cell_type": "code",
   "execution_count": 22,
   "id": "34f9365c-f4d6-4f91-abda-003c1a911de8",
   "metadata": {},
   "outputs": [],
   "source": [
    "def display_percentages(ax):\n",
    "    h = [p.get_height() for p in ax.patches]\n",
    "    n = len(h)//2\n",
    "    percent = [h[i]/(h[i] + h[i + n]) for i in range(n)] + [h[i]/(h[i] + h[i - n]) for i in range(n, 2*n)]\n",
    "    for i, p in enumerate(ax.patches):\n",
    "        ax.annotate(f\"{percent[i]:.0%}\", (p.get_x(), p.get_height()*1.01))"
   ]
  },
  {
   "cell_type": "code",
   "execution_count": 23,
   "id": "a920e0b2-3326-4a7a-ac79-16428a80df2e",
   "metadata": {},
   "outputs": [
    {
     "data": {
      "image/png": "[encoded data removed]",
      "text/plain": [
       "<Figure size 1000x1000 with 4 Axes>"
      ]
     },
     "metadata": {},
     "output_type": "display_data"
    }
   ],
   "source": [
    "fig, axes = plt.subplots(\n",
    "    ncols=2, nrows=2,\n",
    "    figsize=(10, 10),\n",
    "    constrained_layout=True\n",
    ")\n",
    "\n",
    "ax = pd.crosstab(pd.cut(X.age, bins=[0, 30, 40, 50, 60, 200]), y, normalize=True).plot(kind='bar', ax=axes[0, 0])\n",
    "display_percentages(ax)\n",
    "\n",
    "ax = pd.crosstab(pd.cut(X.balance, bins=[-2500, 0, 2500, 5000, 7500, 100000]), y, normalize=True).plot(kind='bar', ax=axes[0, 1])\n",
    "display_percentages(ax)\n",
    "\n",
    "ax = pd.crosstab(pd.cut(X.duration, bins=[0, 180, 420, 600, 900, 3000]), y, normalize=True).plot(kind='bar', ax=axes[1, 0])\n",
    "display_percentages(ax)\n",
    "\n",
    "ax = pd.crosstab(pd.cut(X.day, bins=[0, 7, 14, 21, 31]), y, normalize=True).plot(kind='bar', ax=axes[1, 1])\n",
    "display_percentages(ax)"
   ]
  },
  {
   "cell_type": "markdown",
   "id": "53aab455-11b4-4031-a586-4b7b2d274012",
   "metadata": {},
   "source": [
    "#### New feature: `total_contacts`"
   ]
  },
  {
   "cell_type": "code",
   "execution_count": 24,
   "id": "d9c84726-c517-4fd6-a47e-abf8bf3f424d",
   "metadata": {
    "editable": true,
    "slideshow": {
     "slide_type": "slide"
    },
    "tags": []
   },
   "outputs": [],
   "source": [
    "X['total_contacts'] = X.campaign + X.previous\n",
    "numerical_columns.append('total_contacts')"
   ]
  },
  {
   "cell_type": "markdown",
   "id": "11bed6f6-c9f5-412f-8ae2-4f47e56a236a",
   "metadata": {},
   "source": [
    "### Categorical Columns"
   ]
  },
  {
   "cell_type": "code",
   "execution_count": 25,
   "id": "b427626f-f862-436d-8ee6-1dc95fdacf86",
   "metadata": {
    "editable": true,
    "scrolled": true,
    "slideshow": {
     "slide_type": "slide"
    },
    "tags": []
   },
   "outputs": [
    {
     "data": {
      "text/html": [
       "<div>\n",
       "<style scoped>\n",
       "    .dataframe tbody tr th:only-of-type {\n",
       "        vertical-align: middle;\n",
       "    }\n",
       "\n",
       "    .dataframe tbody tr th {\n",
       "        vertical-align: top;\n",
       "    }\n",
       "\n",
       "    .dataframe thead th {\n",
       "        text-align: right;\n",
       "    }\n",
       "</style>\n",
       "<table border=\"1\" class=\"dataframe\">\n",
       "  <thead>\n",
       "    <tr style=\"text-align: right;\">\n",
       "      <th></th>\n",
       "      <th>job</th>\n",
       "      <th>marital</th>\n",
       "      <th>education</th>\n",
       "      <th>default</th>\n",
       "      <th>housing</th>\n",
       "      <th>loan</th>\n",
       "      <th>contact</th>\n",
       "      <th>month</th>\n",
       "      <th>poutcome</th>\n",
       "    </tr>\n",
       "  </thead>\n",
       "  <tbody>\n",
       "    <tr>\n",
       "      <th>count</th>\n",
       "      <td>32138</td>\n",
       "      <td>32138</td>\n",
       "      <td>32138</td>\n",
       "      <td>32138</td>\n",
       "      <td>32138</td>\n",
       "      <td>32138</td>\n",
       "      <td>32138</td>\n",
       "      <td>32138</td>\n",
       "      <td>32138</td>\n",
       "    </tr>\n",
       "    <tr>\n",
       "      <th>unique</th>\n",
       "      <td>12</td>\n",
       "      <td>3</td>\n",
       "      <td>4</td>\n",
       "      <td>2</td>\n",
       "      <td>2</td>\n",
       "      <td>2</td>\n",
       "      <td>3</td>\n",
       "      <td>12</td>\n",
       "      <td>4</td>\n",
       "    </tr>\n",
       "    <tr>\n",
       "      <th>top</th>\n",
       "      <td>blue-collar</td>\n",
       "      <td>married</td>\n",
       "      <td>secondary</td>\n",
       "      <td>no</td>\n",
       "      <td>yes</td>\n",
       "      <td>no</td>\n",
       "      <td>cellular</td>\n",
       "      <td>may</td>\n",
       "      <td>unknown</td>\n",
       "    </tr>\n",
       "    <tr>\n",
       "      <th>freq</th>\n",
       "      <td>6919</td>\n",
       "      <td>19427</td>\n",
       "      <td>16574</td>\n",
       "      <td>31537</td>\n",
       "      <td>17652</td>\n",
       "      <td>26887</td>\n",
       "      <td>20418</td>\n",
       "      <td>9522</td>\n",
       "      <td>27671</td>\n",
       "    </tr>\n",
       "  </tbody>\n",
       "</table>\n",
       "</div>"
      ],
      "text/plain": [
       "                job  marital  education default housing   loan   contact  \\\n",
       "count         32138    32138      32138   32138   32138  32138     32138   \n",
       "unique           12        3          4       2       2      2         3   \n",
       "top     blue-collar  married  secondary      no     yes     no  cellular   \n",
       "freq           6919    19427      16574   31537   17652  26887     20418   \n",
       "\n",
       "        month poutcome  \n",
       "count   32138    32138  \n",
       "unique     12        4  \n",
       "top       may  unknown  \n",
       "freq     9522    27671  "
      ]
     },
     "execution_count": 25,
     "metadata": {},
     "output_type": "execute_result"
    }
   ],
   "source": [
    "X[categorical_columns].describe()"
   ]
  },
  {
   "cell_type": "code",
   "execution_count": 26,
   "id": "782dbbeb-1172-4f8e-8ec2-75aa548943a5",
   "metadata": {},
   "outputs": [
    {
     "name": "stdout",
     "output_type": "stream",
     "text": [
      "blue-collar      6919\n",
      "management       6742\n",
      "technician       5441\n",
      "admin.           3704\n",
      "services         2979\n",
      "retired          1401\n",
      "self-employed    1143\n",
      "entrepreneur     1095\n",
      "unemployed        944\n",
      "housemaid         897\n",
      "student           665\n",
      "unknown           208\n",
      "Name: job, dtype: int64 \n",
      "\n",
      "married     19427\n",
      "single       9054\n",
      "divorced     3657\n",
      "Name: marital, dtype: int64 \n",
      "\n",
      "secondary    16574\n",
      "tertiary      9442\n",
      "primary       4811\n",
      "unknown       1311\n",
      "Name: education, dtype: int64 \n",
      "\n",
      "no     31537\n",
      "yes      601\n",
      "Name: default, dtype: int64 \n",
      "\n",
      "yes    17652\n",
      "no     14486\n",
      "Name: housing, dtype: int64 \n",
      "\n",
      "no     26887\n",
      "yes     5251\n",
      "Name: loan, dtype: int64 \n",
      "\n",
      "cellular     20418\n",
      "unknown       9850\n",
      "telephone     1870\n",
      "Name: contact, dtype: int64 \n",
      "\n",
      "may    9522\n",
      "jul    5011\n",
      "aug    4527\n",
      "jun    3916\n",
      "nov    2876\n",
      "apr    2046\n",
      "feb    1945\n",
      "jan    1018\n",
      "oct     459\n",
      "sep     344\n",
      "mar     332\n",
      "dec     142\n",
      "Name: month, dtype: int64 \n",
      "\n",
      "unknown    27671\n",
      "failure     2601\n",
      "success      950\n",
      "other        916\n",
      "Name: poutcome, dtype: int64 \n",
      "\n"
     ]
    }
   ],
   "source": [
    "for col in categorical_columns:\n",
    "    print(X[col].value_counts(), '\\n')"
   ]
  },
  {
   "cell_type": "markdown",
   "id": "2c0ece0e-63f8-46bb-830e-ac0a7d8e74e1",
   "metadata": {
    "editable": true,
    "slideshow": {
     "slide_type": "fragment"
    },
    "tags": []
   },
   "source": [
    "* `default` is 98% \"no\", so can drop this column?\n",
    "* `poutcome` has too many \"unknown\"s. But this means the client hasn't been contacted before."
   ]
  },
  {
   "cell_type": "markdown",
   "id": "c073e657-f3f0-40c0-869a-4dded71e14ad",
   "metadata": {
    "editable": true,
    "slideshow": {
     "slide_type": "fragment"
    },
    "tags": []
   },
   "source": [
    "#### Analyzing `contact`\n",
    "\n",
    "Q. Does `contact` matter?  \n",
    "A. Probably not + 'unknown' is second most common value after 'cellular'."
   ]
  },
  {
   "cell_type": "code",
   "execution_count": 27,
   "id": "4e02033f-93dd-45e5-97cc-0794c2c5f01c",
   "metadata": {
    "editable": true,
    "slideshow": {
     "slide_type": "slide"
    },
    "tags": []
   },
   "outputs": [
    {
     "data": {
      "image/png": "[encoded data removed]",
      "text/plain": [
       "<Figure size 640x480 with 1 Axes>"
      ]
     },
     "metadata": {},
     "output_type": "display_data"
    }
   ],
   "source": [
    "ax = pd.crosstab(X.contact, y, normalize=True).plot(kind='bar')\n",
    "display_percentages(ax)"
   ]
  },
  {
   "cell_type": "code",
   "execution_count": 28,
   "id": "f45b927d-f7ef-478e-93d2-3707372f3863",
   "metadata": {},
   "outputs": [],
   "source": [
    "drop_columns(['contact'])"
   ]
  },
  {
   "cell_type": "markdown",
   "id": "ad60da2a-c984-4145-9dc6-a9b4775ef54a",
   "metadata": {},
   "source": [
    "#### Unknown values\n",
    "\n",
    "Replace:\n",
    "* poutcome: other->failure, unknown->na\n",
    "* education: unknown->primary"
   ]
  },
  {
   "cell_type": "code",
   "execution_count": 29,
   "id": "da7c1151-04f3-4f60-a585-04922e29a42d",
   "metadata": {
    "editable": true,
    "slideshow": {
     "slide_type": "skip"
    },
    "tags": []
   },
   "outputs": [],
   "source": [
    "from sklearn.preprocessing import FunctionTransformer\n",
    "\n",
    "# Since this needs to be done for both train and test,\n",
    "# it's better to be part of a pipeline.\n",
    "def cleanup(X):\n",
    "    #X = X.drop('day', axis=1).drop('contact', axis=1)\n",
    "    X = X.drop('duration', axis=1)\n",
    "    X = X.replace({\n",
    "        # Restricting previous outcome to \"success\", \"failure\" and \"na\".\n",
    "        \"poutcome\": {\n",
    "            \"other\": \"failure\",\n",
    "            \"unknown\": \"na\",\n",
    "        },\n",
    "        # Set as minimum\n",
    "        \"education\": {\n",
    "            \"unknown\": \"primary\",\n",
    "        },\n",
    "        \"contact\": {\n",
    "            \"unknown\": \"telephone\",\n",
    "        },\n",
    "    })\n",
    "    return X\n",
    "\n",
    "# Make transformer to use in pipeline\n",
    "data_cleaner = FunctionTransformer(cleanup)"
   ]
  },
  {
   "cell_type": "code",
   "execution_count": 30,
   "id": "68c72dca-b3c4-4571-93ec-bc3b4bf3a844",
   "metadata": {
    "editable": true,
    "slideshow": {
     "slide_type": "skip"
    },
    "tags": []
   },
   "outputs": [],
   "source": [
    "X = data_cleaner.fit_transform(X)"
   ]
  },
  {
   "cell_type": "markdown",
   "id": "931dc74b-20f0-4537-8165-26325c656a1a",
   "metadata": {},
   "source": [
    "#### New feature: `any_loans`"
   ]
  },
  {
   "cell_type": "code",
   "execution_count": 31,
   "id": "3c1280aa-af27-42b3-85d4-471c405a93b1",
   "metadata": {
    "editable": true,
    "slideshow": {
     "slide_type": "slide"
    },
    "tags": []
   },
   "outputs": [],
   "source": [
    "import numpy as np\n",
    "\n",
    "X['any_loans'] = np.logical_or(X.housing == \"yes\", X.loan == \"yes\")\n",
    "categorical_columns.append('any_loans')"
   ]
  },
  {
   "cell_type": "code",
   "execution_count": 32,
   "id": "2cc6ab13-34e0-4b4d-a1cf-02c76cb434d7",
   "metadata": {
    "editable": true,
    "slideshow": {
     "slide_type": "subslide"
    },
    "tags": []
   },
   "outputs": [
    {
     "data": {
      "image/png": "[encoded data removed]",
      "text/plain": [
       "<Figure size 1800x1000 with 9 Axes>"
      ]
     },
     "metadata": {},
     "output_type": "display_data"
    }
   ],
   "source": [
    "fig, axes = plt.subplots(\n",
    "    ncols=3,\n",
    "    nrows=(len(categorical_columns) + 1)//3,\n",
    "    figsize=(18, 10),\n",
    "    constrained_layout=True\n",
    ")\n",
    "colors = [f'C{i}' for i in range(12)]\n",
    "for i, col in enumerate(categorical_columns):\n",
    "    ctab = pd.crosstab(X[col], y, normalize=True)\n",
    "    if col == 'month':\n",
    "        months = ['jan', 'feb', 'mar', 'apr', 'may', 'jun', 'jul', 'aug', 'sep', 'oct', 'nov', 'dec']\n",
    "        ctab.loc[months].plot(ax=axes[i//3, i%3], kind='bar', stacked=True)\n",
    "    else:\n",
    "        ctab.sort_values(by=0, ascending=False).plot(ax=axes[i//3, i%3], kind='bar', stacked=True)"
   ]
  },
  {
   "cell_type": "code",
   "execution_count": 33,
   "id": "d7647c1f-8c01-42df-8957-d0b21ccbae49",
   "metadata": {
    "editable": true,
    "slideshow": {
     "slide_type": "subslide"
    },
    "tags": []
   },
   "outputs": [
    {
     "data": {
      "image/png": "[encoded data removed]",
      "text/plain": [
       "<Figure size 1800x1000 with 9 Axes>"
      ]
     },
     "metadata": {},
     "output_type": "display_data"
    }
   ],
   "source": [
    "import matplotlib.pyplot as plt\n",
    "\n",
    "fig, axes = plt.subplots(\n",
    "    ncols=3,\n",
    "    nrows=(len(categorical_columns) + 1)//3,\n",
    "    figsize=(18, 10),\n",
    "    constrained_layout=True\n",
    ")\n",
    "colors = [f'C{i}' for i in range(12)]\n",
    "for i, col in enumerate(categorical_columns):\n",
    "    (X[y == 1][col].value_counts()/X[col].value_counts())\\\n",
    "        .sort_values(ascending=False)\\\n",
    "        .plot(ax=axes[i//3, i%3], kind='bar', xlabel=col, ylabel='% conversion', color=colors)"
   ]
  },
  {
   "cell_type": "markdown",
   "id": "05488b62-2088-42e9-9340-8aaec946cf11",
   "metadata": {},
   "source": [
    "### Mutual Information"
   ]
  },
  {
   "cell_type": "code",
   "execution_count": 34,
   "id": "991d3d05-5a83-48a8-842e-2dcbe1e25b52",
   "metadata": {
    "editable": true,
    "slideshow": {
     "slide_type": "slide"
    },
    "tags": []
   },
   "outputs": [
    {
     "data": {
      "text/plain": [
       "Text(0.5, 1.0, 'Mutual Information with y')"
      ]
     },
     "execution_count": 34,
     "metadata": {},
     "output_type": "execute_result"
    },
    {
     "data": {
      "image/png": "[encoded data removed]",
      "text/plain": [
       "<Figure size 640x480 with 1 Axes>"
      ]
     },
     "metadata": {},
     "output_type": "display_data"
    }
   ],
   "source": [
    "# https://www.kaggle.com/code/ryanholbrook/mutual-information\n",
    "from sklearn.feature_selection import mutual_info_classif\n",
    "\n",
    "def make_mi_scores(X, y, discrete_features):\n",
    "    mi_scores = mutual_info_classif(X, y, discrete_features=discrete_features)\n",
    "    mi_scores = pd.Series(mi_scores, name=\"MI Scores\", index=X.columns)\n",
    "    mi_scores = mi_scores.sort_values(ascending=False)\n",
    "    return mi_scores\n",
    "\n",
    "for col in categorical_columns + ['contact']:\n",
    "    X[col], _ = X[col].factorize()\n",
    "\n",
    "make_mi_scores(X, y, X.dtypes == int).plot(kind='bar')\n",
    "plt.title('Mutual Information with y')"
   ]
  },
  {
   "cell_type": "markdown",
   "id": "7eb173d9-c269-4756-bd37-38f0c3704847",
   "metadata": {},
   "source": [
    "### Correlation matrices"
   ]
  },
  {
   "cell_type": "code",
   "execution_count": 35,
   "id": "3794a827-6041-4beb-942c-39d851c5156e",
   "metadata": {
    "editable": true,
    "slideshow": {
     "slide_type": "slide"
    },
    "tags": []
   },
   "outputs": [
    {
     "data": {
      "text/html": [
       "<style type=\"text/css\">\n",
       "#T_abb3a_row0_col0, #T_abb3a_row1_col1, #T_abb3a_row2_col2, #T_abb3a_row3_col3, #T_abb3a_row4_col4, #T_abb3a_row5_col5, #T_abb3a_row6_col6 {\n",
       "  background-color: #b40426;\n",
       "  color: #f1f1f1;\n",
       "}\n",
       "#T_abb3a_row0_col1 {\n",
       "  background-color: #5b7ae5;\n",
       "  color: #f1f1f1;\n",
       "}\n",
       "#T_abb3a_row0_col2 {\n",
       "  background-color: #5d7ce6;\n",
       "  color: #f1f1f1;\n",
       "}\n",
       "#T_abb3a_row0_col3, #T_abb3a_row0_col4 {\n",
       "  background-color: #516ddb;\n",
       "  color: #f1f1f1;\n",
       "}\n",
       "#T_abb3a_row0_col5, #T_abb3a_row4_col2 {\n",
       "  background-color: #4055c8;\n",
       "  color: #f1f1f1;\n",
       "}\n",
       "#T_abb3a_row0_col6 {\n",
       "  background-color: #4e68d8;\n",
       "  color: #f1f1f1;\n",
       "}\n",
       "#T_abb3a_row1_col0 {\n",
       "  background-color: #5977e3;\n",
       "  color: #f1f1f1;\n",
       "}\n",
       "#T_abb3a_row1_col2 {\n",
       "  background-color: #4f69d9;\n",
       "  color: #f1f1f1;\n",
       "}\n",
       "#T_abb3a_row1_col3 {\n",
       "  background-color: #6180e9;\n",
       "  color: #f1f1f1;\n",
       "}\n",
       "#T_abb3a_row1_col4 {\n",
       "  background-color: #5f7fe8;\n",
       "  color: #f1f1f1;\n",
       "}\n",
       "#T_abb3a_row1_col5 {\n",
       "  background-color: #3c4ec2;\n",
       "  color: #f1f1f1;\n",
       "}\n",
       "#T_abb3a_row1_col6 {\n",
       "  background-color: #6485ec;\n",
       "  color: #f1f1f1;\n",
       "}\n",
       "#T_abb3a_row2_col0 {\n",
       "  background-color: #455cce;\n",
       "  color: #f1f1f1;\n",
       "}\n",
       "#T_abb3a_row2_col1, #T_abb3a_row2_col3, #T_abb3a_row2_col4, #T_abb3a_row2_col6, #T_abb3a_row3_col0, #T_abb3a_row3_col2, #T_abb3a_row6_col0, #T_abb3a_row6_col5 {\n",
       "  background-color: #3b4cc0;\n",
       "  color: #f1f1f1;\n",
       "}\n",
       "#T_abb3a_row2_col5 {\n",
       "  background-color: #de614d;\n",
       "  color: #f1f1f1;\n",
       "}\n",
       "#T_abb3a_row3_col1 {\n",
       "  background-color: #4b64d5;\n",
       "  color: #f1f1f1;\n",
       "}\n",
       "#T_abb3a_row3_col4 {\n",
       "  background-color: #f59d7e;\n",
       "  color: #000000;\n",
       "}\n",
       "#T_abb3a_row3_col5 {\n",
       "  background-color: #90b2fe;\n",
       "  color: #000000;\n",
       "}\n",
       "#T_abb3a_row3_col6 {\n",
       "  background-color: #7597f6;\n",
       "  color: #f1f1f1;\n",
       "}\n",
       "#T_abb3a_row4_col0 {\n",
       "  background-color: #3f53c6;\n",
       "  color: #f1f1f1;\n",
       "}\n",
       "#T_abb3a_row4_col1 {\n",
       "  background-color: #506bda;\n",
       "  color: #f1f1f1;\n",
       "}\n",
       "#T_abb3a_row4_col3 {\n",
       "  background-color: #f59c7d;\n",
       "  color: #000000;\n",
       "}\n",
       "#T_abb3a_row4_col5 {\n",
       "  background-color: #c5d6f2;\n",
       "  color: #000000;\n",
       "}\n",
       "#T_abb3a_row4_col6 {\n",
       "  background-color: #85a8fc;\n",
       "  color: #f1f1f1;\n",
       "}\n",
       "#T_abb3a_row5_col0 {\n",
       "  background-color: #465ecf;\n",
       "  color: #f1f1f1;\n",
       "}\n",
       "#T_abb3a_row5_col1 {\n",
       "  background-color: #4358cb;\n",
       "  color: #f1f1f1;\n",
       "}\n",
       "#T_abb3a_row5_col2 {\n",
       "  background-color: #da5a49;\n",
       "  color: #f1f1f1;\n",
       "}\n",
       "#T_abb3a_row5_col3 {\n",
       "  background-color: #a9c6fd;\n",
       "  color: #000000;\n",
       "}\n",
       "#T_abb3a_row5_col4 {\n",
       "  background-color: #d2dbe8;\n",
       "  color: #000000;\n",
       "}\n",
       "#T_abb3a_row5_col6 {\n",
       "  background-color: #5470de;\n",
       "  color: #f1f1f1;\n",
       "}\n",
       "#T_abb3a_row6_col1 {\n",
       "  background-color: #536edd;\n",
       "  color: #f1f1f1;\n",
       "}\n",
       "#T_abb3a_row6_col2 {\n",
       "  background-color: #3e51c5;\n",
       "  color: #f1f1f1;\n",
       "}\n",
       "#T_abb3a_row6_col3 {\n",
       "  background-color: #799cf8;\n",
       "  color: #f1f1f1;\n",
       "}\n",
       "#T_abb3a_row6_col4 {\n",
       "  background-color: #82a6fb;\n",
       "  color: #f1f1f1;\n",
       "}\n",
       "</style>\n",
       "<table id=\"T_abb3a\">\n",
       "  <thead>\n",
       "    <tr>\n",
       "      <th class=\"blank level0\" >&nbsp;</th>\n",
       "      <th id=\"T_abb3a_level0_col0\" class=\"col_heading level0 col0\" >age</th>\n",
       "      <th id=\"T_abb3a_level0_col1\" class=\"col_heading level0 col1\" >balance</th>\n",
       "      <th id=\"T_abb3a_level0_col2\" class=\"col_heading level0 col2\" >campaign</th>\n",
       "      <th id=\"T_abb3a_level0_col3\" class=\"col_heading level0 col3\" >pdays</th>\n",
       "      <th id=\"T_abb3a_level0_col4\" class=\"col_heading level0 col4\" >previous</th>\n",
       "      <th id=\"T_abb3a_level0_col5\" class=\"col_heading level0 col5\" >total_contacts</th>\n",
       "      <th id=\"T_abb3a_level0_col6\" class=\"col_heading level0 col6\" >y</th>\n",
       "    </tr>\n",
       "  </thead>\n",
       "  <tbody>\n",
       "    <tr>\n",
       "      <th id=\"T_abb3a_level0_row0\" class=\"row_heading level0 row0\" >age</th>\n",
       "      <td id=\"T_abb3a_row0_col0\" class=\"data row0 col0\" >1.000000</td>\n",
       "      <td id=\"T_abb3a_row0_col1\" class=\"data row0 col1\" >0.094718</td>\n",
       "      <td id=\"T_abb3a_row0_col2\" class=\"data row0 col2\" >0.030857</td>\n",
       "      <td id=\"T_abb3a_row0_col3\" class=\"data row0 col3\" >-0.006390</td>\n",
       "      <td id=\"T_abb3a_row0_col4\" class=\"data row0 col4\" >0.012490</td>\n",
       "      <td id=\"T_abb3a_row0_col5\" class=\"data row0 col5\" >0.034080</td>\n",
       "      <td id=\"T_abb3a_row0_col6\" class=\"data row0 col6\" >-0.006087</td>\n",
       "    </tr>\n",
       "    <tr>\n",
       "      <th id=\"T_abb3a_level0_row1\" class=\"row_heading level0 row1\" >balance</th>\n",
       "      <td id=\"T_abb3a_row1_col0\" class=\"data row1 col0\" >0.094718</td>\n",
       "      <td id=\"T_abb3a_row1_col1\" class=\"data row1 col1\" >1.000000</td>\n",
       "      <td id=\"T_abb3a_row1_col2\" class=\"data row1 col2\" >-0.015292</td>\n",
       "      <td id=\"T_abb3a_row1_col3\" class=\"data row1 col3\" >0.044017</td>\n",
       "      <td id=\"T_abb3a_row1_col4\" class=\"data row1 col4\" >0.059948</td>\n",
       "      <td id=\"T_abb3a_row1_col5\" class=\"data row1 col5\" >0.015240</td>\n",
       "      <td id=\"T_abb3a_row1_col6\" class=\"data row1 col6\" >0.067772</td>\n",
       "    </tr>\n",
       "    <tr>\n",
       "      <th id=\"T_abb3a_level0_row2\" class=\"row_heading level0 row2\" >campaign</th>\n",
       "      <td id=\"T_abb3a_row2_col0\" class=\"data row2 col0\" >0.030857</td>\n",
       "      <td id=\"T_abb3a_row2_col1\" class=\"data row2 col1\" >-0.015292</td>\n",
       "      <td id=\"T_abb3a_row2_col2\" class=\"data row2 col2\" >1.000000</td>\n",
       "      <td id=\"T_abb3a_row2_col3\" class=\"data row2 col3\" >-0.091138</td>\n",
       "      <td id=\"T_abb3a_row2_col4\" class=\"data row2 col4\" >-0.068173</td>\n",
       "      <td id=\"T_abb3a_row2_col5\" class=\"data row2 col5\" >0.874696</td>\n",
       "      <td id=\"T_abb3a_row2_col6\" class=\"data row2 col6\" >-0.077555</td>\n",
       "    </tr>\n",
       "    <tr>\n",
       "      <th id=\"T_abb3a_level0_row3\" class=\"row_heading level0 row3\" >pdays</th>\n",
       "      <td id=\"T_abb3a_row3_col0\" class=\"data row3 col0\" >-0.006390</td>\n",
       "      <td id=\"T_abb3a_row3_col1\" class=\"data row3 col1\" >0.044017</td>\n",
       "      <td id=\"T_abb3a_row3_col2\" class=\"data row3 col2\" >-0.091138</td>\n",
       "      <td id=\"T_abb3a_row3_col3\" class=\"data row3 col3\" >1.000000</td>\n",
       "      <td id=\"T_abb3a_row3_col4\" class=\"data row3 col4\" >0.721053</td>\n",
       "      <td id=\"T_abb3a_row3_col5\" class=\"data row3 col5\" >0.267553</td>\n",
       "      <td id=\"T_abb3a_row3_col6\" class=\"data row3 col6\" >0.118488</td>\n",
       "    </tr>\n",
       "    <tr>\n",
       "      <th id=\"T_abb3a_level0_row4\" class=\"row_heading level0 row4\" >previous</th>\n",
       "      <td id=\"T_abb3a_row4_col0\" class=\"data row4 col0\" >0.012490</td>\n",
       "      <td id=\"T_abb3a_row4_col1\" class=\"data row4 col1\" >0.059948</td>\n",
       "      <td id=\"T_abb3a_row4_col2\" class=\"data row4 col2\" >-0.068173</td>\n",
       "      <td id=\"T_abb3a_row4_col3\" class=\"data row4 col3\" >0.721053</td>\n",
       "      <td id=\"T_abb3a_row4_col4\" class=\"data row4 col4\" >1.000000</td>\n",
       "      <td id=\"T_abb3a_row4_col5\" class=\"data row4 col5\" >0.423914</td>\n",
       "      <td id=\"T_abb3a_row4_col6\" class=\"data row4 col6\" >0.167536</td>\n",
       "    </tr>\n",
       "    <tr>\n",
       "      <th id=\"T_abb3a_level0_row5\" class=\"row_heading level0 row5\" >total_contacts</th>\n",
       "      <td id=\"T_abb3a_row5_col0\" class=\"data row5 col0\" >0.034080</td>\n",
       "      <td id=\"T_abb3a_row5_col1\" class=\"data row5 col1\" >0.015240</td>\n",
       "      <td id=\"T_abb3a_row5_col2\" class=\"data row5 col2\" >0.874696</td>\n",
       "      <td id=\"T_abb3a_row5_col3\" class=\"data row5 col3\" >0.267553</td>\n",
       "      <td id=\"T_abb3a_row5_col4\" class=\"data row5 col4\" >0.423914</td>\n",
       "      <td id=\"T_abb3a_row5_col5\" class=\"data row5 col5\" >1.000000</td>\n",
       "      <td id=\"T_abb3a_row5_col6\" class=\"data row5 col6\" >0.010984</td>\n",
       "    </tr>\n",
       "    <tr>\n",
       "      <th id=\"T_abb3a_level0_row6\" class=\"row_heading level0 row6\" >y</th>\n",
       "      <td id=\"T_abb3a_row6_col0\" class=\"data row6 col0\" >-0.006087</td>\n",
       "      <td id=\"T_abb3a_row6_col1\" class=\"data row6 col1\" >0.067772</td>\n",
       "      <td id=\"T_abb3a_row6_col2\" class=\"data row6 col2\" >-0.077555</td>\n",
       "      <td id=\"T_abb3a_row6_col3\" class=\"data row6 col3\" >0.118488</td>\n",
       "      <td id=\"T_abb3a_row6_col4\" class=\"data row6 col4\" >0.167536</td>\n",
       "      <td id=\"T_abb3a_row6_col5\" class=\"data row6 col5\" >0.010984</td>\n",
       "      <td id=\"T_abb3a_row6_col6\" class=\"data row6 col6\" >1.000000</td>\n",
       "    </tr>\n",
       "  </tbody>\n",
       "</table>\n"
      ],
      "text/plain": [
       "<pandas.io.formats.style.Styler at 0x7face59c88d0>"
      ]
     },
     "execution_count": 35,
     "metadata": {},
     "output_type": "execute_result"
    }
   ],
   "source": [
    "corr = pd.concat([X[[col for col in numerical_columns if col != 'duration']], y], axis=1).corr()\n",
    "corr.style.background_gradient(cmap='coolwarm')"
   ]
  },
  {
   "cell_type": "code",
   "execution_count": 36,
   "id": "220bf8d3-046a-4476-9990-99d56a425b71",
   "metadata": {},
   "outputs": [
    {
     "data": {
      "text/plain": [
       "<Axes: >"
      ]
     },
     "execution_count": 36,
     "metadata": {},
     "output_type": "execute_result"
    },
    {
     "data": {
      "image/png": "[encoded data removed]",
      "text/plain": [
       "<Figure size 640x480 with 1 Axes>"
      ]
     },
     "metadata": {},
     "output_type": "display_data"
    }
   ],
   "source": [
    "corr['y'].plot(kind='bar')"
   ]
  },
  {
   "cell_type": "code",
   "execution_count": 37,
   "id": "8d1fe31a-adc8-44f7-b2f3-8d6a764601df",
   "metadata": {
    "editable": true,
    "slideshow": {
     "slide_type": "slide"
    },
    "tags": []
   },
   "outputs": [
    {
     "data": {
      "text/html": [
       "<style type=\"text/css\">\n",
       "#T_e70dc_row0_col0, #T_e70dc_row1_col1, #T_e70dc_row2_col2, #T_e70dc_row3_col3, #T_e70dc_row4_col4, #T_e70dc_row5_col5, #T_e70dc_row6_col6, #T_e70dc_row7_col7, #T_e70dc_row8_col8, #T_e70dc_row9_col9, #T_e70dc_row10_col10 {\n",
       "  background-color: #b40426;\n",
       "  color: #f1f1f1;\n",
       "}\n",
       "#T_e70dc_row0_col1, #T_e70dc_row4_col2 {\n",
       "  background-color: #5875e1;\n",
       "  color: #f1f1f1;\n",
       "}\n",
       "#T_e70dc_row0_col2 {\n",
       "  background-color: #c6d6f1;\n",
       "  color: #000000;\n",
       "}\n",
       "#T_e70dc_row0_col3, #T_e70dc_row2_col3, #T_e70dc_row5_col0 {\n",
       "  background-color: #4a63d3;\n",
       "  color: #f1f1f1;\n",
       "}\n",
       "#T_e70dc_row0_col4, #T_e70dc_row5_col6 {\n",
       "  background-color: #5b7ae5;\n",
       "  color: #f1f1f1;\n",
       "}\n",
       "#T_e70dc_row0_col5 {\n",
       "  background-color: #8caffe;\n",
       "  color: #000000;\n",
       "}\n",
       "#T_e70dc_row0_col6, #T_e70dc_row8_col7 {\n",
       "  background-color: #5977e3;\n",
       "  color: #f1f1f1;\n",
       "}\n",
       "#T_e70dc_row0_col7, #T_e70dc_row4_col3 {\n",
       "  background-color: #485fd1;\n",
       "  color: #f1f1f1;\n",
       "}\n",
       "#T_e70dc_row0_col8, #T_e70dc_row7_col6 {\n",
       "  background-color: #9ebeff;\n",
       "  color: #000000;\n",
       "}\n",
       "#T_e70dc_row0_col9, #T_e70dc_row1_col4, #T_e70dc_row1_col7, #T_e70dc_row10_col2 {\n",
       "  background-color: #5470de;\n",
       "  color: #f1f1f1;\n",
       "}\n",
       "#T_e70dc_row0_col10, #T_e70dc_row3_col4 {\n",
       "  background-color: #4e68d8;\n",
       "  color: #f1f1f1;\n",
       "}\n",
       "#T_e70dc_row1_col0, #T_e70dc_row9_col3 {\n",
       "  background-color: #4257c9;\n",
       "  color: #f1f1f1;\n",
       "}\n",
       "#T_e70dc_row1_col2 {\n",
       "  background-color: #3e51c5;\n",
       "  color: #f1f1f1;\n",
       "}\n",
       "#T_e70dc_row1_col3 {\n",
       "  background-color: #455cce;\n",
       "  color: #f1f1f1;\n",
       "}\n",
       "#T_e70dc_row1_col5 {\n",
       "  background-color: #82a6fb;\n",
       "  color: #f1f1f1;\n",
       "}\n",
       "#T_e70dc_row1_col6, #T_e70dc_row3_col6, #T_e70dc_row4_col0 {\n",
       "  background-color: #5e7de7;\n",
       "  color: #f1f1f1;\n",
       "}\n",
       "#T_e70dc_row1_col8, #T_e70dc_row9_col7 {\n",
       "  background-color: #98b9ff;\n",
       "  color: #000000;\n",
       "}\n",
       "#T_e70dc_row1_col9 {\n",
       "  background-color: #7597f6;\n",
       "  color: #f1f1f1;\n",
       "}\n",
       "#T_e70dc_row1_col10 {\n",
       "  background-color: #6282ea;\n",
       "  color: #f1f1f1;\n",
       "}\n",
       "#T_e70dc_row2_col0 {\n",
       "  background-color: #b6cefa;\n",
       "  color: #000000;\n",
       "}\n",
       "#T_e70dc_row2_col1, #T_e70dc_row2_col4, #T_e70dc_row2_col6, #T_e70dc_row2_col7, #T_e70dc_row2_col9, #T_e70dc_row2_col10, #T_e70dc_row5_col8, #T_e70dc_row5_col10, #T_e70dc_row7_col3, #T_e70dc_row8_col5, #T_e70dc_row9_col0, #T_e70dc_row9_col2 {\n",
       "  background-color: #3b4cc0;\n",
       "  color: #f1f1f1;\n",
       "}\n",
       "#T_e70dc_row2_col5 {\n",
       "  background-color: #93b5fe;\n",
       "  color: #000000;\n",
       "}\n",
       "#T_e70dc_row2_col8, #T_e70dc_row6_col10 {\n",
       "  background-color: #7ea1fa;\n",
       "  color: #f1f1f1;\n",
       "}\n",
       "#T_e70dc_row3_col0, #T_e70dc_row4_col7 {\n",
       "  background-color: #536edd;\n",
       "  color: #f1f1f1;\n",
       "}\n",
       "#T_e70dc_row3_col1, #T_e70dc_row3_col9 {\n",
       "  background-color: #6485ec;\n",
       "  color: #f1f1f1;\n",
       "}\n",
       "#T_e70dc_row3_col2, #T_e70dc_row4_col1, #T_e70dc_row5_col9 {\n",
       "  background-color: #6c8ff1;\n",
       "  color: #f1f1f1;\n",
       "}\n",
       "#T_e70dc_row3_col5, #T_e70dc_row7_col10 {\n",
       "  background-color: #a2c1ff;\n",
       "  color: #000000;\n",
       "}\n",
       "#T_e70dc_row3_col7 {\n",
       "  background-color: #4358cb;\n",
       "  color: #f1f1f1;\n",
       "}\n",
       "#T_e70dc_row3_col8, #T_e70dc_row7_col5 {\n",
       "  background-color: #88abfd;\n",
       "  color: #000000;\n",
       "}\n",
       "#T_e70dc_row3_col10, #T_e70dc_row7_col0 {\n",
       "  background-color: #4961d2;\n",
       "  color: #f1f1f1;\n",
       "}\n",
       "#T_e70dc_row4_col5 {\n",
       "  background-color: #85a8fc;\n",
       "  color: #f1f1f1;\n",
       "}\n",
       "#T_e70dc_row4_col6 {\n",
       "  background-color: #d2dbe8;\n",
       "  color: #000000;\n",
       "}\n",
       "#T_e70dc_row4_col8 {\n",
       "  background-color: #d55042;\n",
       "  color: #f1f1f1;\n",
       "}\n",
       "#T_e70dc_row4_col9 {\n",
       "  background-color: #9fbfff;\n",
       "  color: #000000;\n",
       "}\n",
       "#T_e70dc_row4_col10 {\n",
       "  background-color: #7a9df8;\n",
       "  color: #f1f1f1;\n",
       "}\n",
       "#T_e70dc_row5_col1, #T_e70dc_row7_col2, #T_e70dc_row8_col2 {\n",
       "  background-color: #5572df;\n",
       "  color: #f1f1f1;\n",
       "}\n",
       "#T_e70dc_row5_col2, #T_e70dc_row7_col1 {\n",
       "  background-color: #6b8df0;\n",
       "  color: #f1f1f1;\n",
       "}\n",
       "#T_e70dc_row5_col3 {\n",
       "  background-color: #5a78e4;\n",
       "  color: #f1f1f1;\n",
       "}\n",
       "#T_e70dc_row5_col4, #T_e70dc_row6_col3 {\n",
       "  background-color: #4055c8;\n",
       "  color: #f1f1f1;\n",
       "}\n",
       "#T_e70dc_row5_col7, #T_e70dc_row6_col0 {\n",
       "  background-color: #445acc;\n",
       "  color: #f1f1f1;\n",
       "}\n",
       "#T_e70dc_row6_col1, #T_e70dc_row8_col0 {\n",
       "  background-color: #5f7fe8;\n",
       "  color: #f1f1f1;\n",
       "}\n",
       "#T_e70dc_row6_col2, #T_e70dc_row10_col3 {\n",
       "  background-color: #3f53c6;\n",
       "  color: #f1f1f1;\n",
       "}\n",
       "#T_e70dc_row6_col4 {\n",
       "  background-color: #c4d5f3;\n",
       "  color: #000000;\n",
       "}\n",
       "#T_e70dc_row6_col5 {\n",
       "  background-color: #89acfd;\n",
       "  color: #000000;\n",
       "}\n",
       "#T_e70dc_row6_col7 {\n",
       "  background-color: #8badfd;\n",
       "  color: #000000;\n",
       "}\n",
       "#T_e70dc_row6_col8 {\n",
       "  background-color: #e1dad6;\n",
       "  color: #000000;\n",
       "}\n",
       "#T_e70dc_row6_col9 {\n",
       "  background-color: #efcebd;\n",
       "  color: #000000;\n",
       "}\n",
       "#T_e70dc_row7_col4 {\n",
       "  background-color: #516ddb;\n",
       "  color: #f1f1f1;\n",
       "}\n",
       "#T_e70dc_row7_col8 {\n",
       "  background-color: #9abbff;\n",
       "  color: #000000;\n",
       "}\n",
       "#T_e70dc_row7_col9 {\n",
       "  background-color: #aec9fc;\n",
       "  color: #000000;\n",
       "}\n",
       "#T_e70dc_row8_col1 {\n",
       "  background-color: #6e90f2;\n",
       "  color: #f1f1f1;\n",
       "}\n",
       "#T_e70dc_row8_col3 {\n",
       "  background-color: #3c4ec2;\n",
       "  color: #f1f1f1;\n",
       "}\n",
       "#T_e70dc_row8_col4 {\n",
       "  background-color: #dc5d4a;\n",
       "  color: #f1f1f1;\n",
       "}\n",
       "#T_e70dc_row8_col6 {\n",
       "  background-color: #cbd8ee;\n",
       "  color: #000000;\n",
       "}\n",
       "#T_e70dc_row8_col9 {\n",
       "  background-color: #97b8ff;\n",
       "  color: #000000;\n",
       "}\n",
       "#T_e70dc_row8_col10 {\n",
       "  background-color: #81a4fb;\n",
       "  color: #f1f1f1;\n",
       "}\n",
       "#T_e70dc_row9_col1 {\n",
       "  background-color: #7093f3;\n",
       "  color: #f1f1f1;\n",
       "}\n",
       "#T_e70dc_row9_col4 {\n",
       "  background-color: #86a9fc;\n",
       "  color: #f1f1f1;\n",
       "}\n",
       "#T_e70dc_row9_col5, #T_e70dc_row10_col9 {\n",
       "  background-color: #94b6ff;\n",
       "  color: #000000;\n",
       "}\n",
       "#T_e70dc_row9_col6 {\n",
       "  background-color: #eed0c0;\n",
       "  color: #000000;\n",
       "}\n",
       "#T_e70dc_row9_col8, #T_e70dc_row10_col8 {\n",
       "  background-color: #b9d0f9;\n",
       "  color: #000000;\n",
       "}\n",
       "#T_e70dc_row9_col10, #T_e70dc_row10_col5 {\n",
       "  background-color: #7da0f9;\n",
       "  color: #f1f1f1;\n",
       "}\n",
       "#T_e70dc_row10_col0 {\n",
       "  background-color: #4f69d9;\n",
       "  color: #f1f1f1;\n",
       "}\n",
       "#T_e70dc_row10_col1, #T_e70dc_row10_col4 {\n",
       "  background-color: #779af7;\n",
       "  color: #f1f1f1;\n",
       "}\n",
       "#T_e70dc_row10_col6 {\n",
       "  background-color: #92b4fe;\n",
       "  color: #000000;\n",
       "}\n",
       "#T_e70dc_row10_col7 {\n",
       "  background-color: #a1c0ff;\n",
       "  color: #000000;\n",
       "}\n",
       "</style>\n",
       "<table id=\"T_e70dc\">\n",
       "  <thead>\n",
       "    <tr>\n",
       "      <th class=\"blank level0\" >&nbsp;</th>\n",
       "      <th id=\"T_e70dc_level0_col0\" class=\"col_heading level0 col0\" >job</th>\n",
       "      <th id=\"T_e70dc_level0_col1\" class=\"col_heading level0 col1\" >marital</th>\n",
       "      <th id=\"T_e70dc_level0_col2\" class=\"col_heading level0 col2\" >education</th>\n",
       "      <th id=\"T_e70dc_level0_col3\" class=\"col_heading level0 col3\" >default</th>\n",
       "      <th id=\"T_e70dc_level0_col4\" class=\"col_heading level0 col4\" >housing</th>\n",
       "      <th id=\"T_e70dc_level0_col5\" class=\"col_heading level0 col5\" >loan</th>\n",
       "      <th id=\"T_e70dc_level0_col6\" class=\"col_heading level0 col6\" >month</th>\n",
       "      <th id=\"T_e70dc_level0_col7\" class=\"col_heading level0 col7\" >poutcome</th>\n",
       "      <th id=\"T_e70dc_level0_col8\" class=\"col_heading level0 col8\" >any_loans</th>\n",
       "      <th id=\"T_e70dc_level0_col9\" class=\"col_heading level0 col9\" >contact</th>\n",
       "      <th id=\"T_e70dc_level0_col10\" class=\"col_heading level0 col10\" >y</th>\n",
       "    </tr>\n",
       "  </thead>\n",
       "  <tbody>\n",
       "    <tr>\n",
       "      <th id=\"T_e70dc_level0_row0\" class=\"row_heading level0 row0\" >job</th>\n",
       "      <td id=\"T_e70dc_row0_col0\" class=\"data row0 col0\" >1.000000</td>\n",
       "      <td id=\"T_e70dc_row0_col1\" class=\"data row0 col1\" >-0.043622</td>\n",
       "      <td id=\"T_e70dc_row0_col2\" class=\"data row0 col2\" >0.322520</td>\n",
       "      <td id=\"T_e70dc_row0_col3\" class=\"data row0 col3\" >0.014703</td>\n",
       "      <td id=\"T_e70dc_row0_col4\" class=\"data row0 col4\" >0.052587</td>\n",
       "      <td id=\"T_e70dc_row0_col5\" class=\"data row0 col5\" >-0.017024</td>\n",
       "      <td id=\"T_e70dc_row0_col6\" class=\"data row0 col6\" >-0.037787</td>\n",
       "      <td id=\"T_e70dc_row0_col7\" class=\"data row0 col7\" >-0.019977</td>\n",
       "      <td id=\"T_e70dc_row0_col8\" class=\"data row0 col8\" >0.055425</td>\n",
       "      <td id=\"T_e70dc_row0_col9\" class=\"data row0 col9\" >-0.072204</td>\n",
       "      <td id=\"T_e70dc_row0_col10\" class=\"data row0 col10\" >-0.000710</td>\n",
       "    </tr>\n",
       "    <tr>\n",
       "      <th id=\"T_e70dc_level0_row1\" class=\"row_heading level0 row1\" >marital</th>\n",
       "      <td id=\"T_e70dc_row1_col0\" class=\"data row1 col0\" >-0.043622</td>\n",
       "      <td id=\"T_e70dc_row1_col1\" class=\"data row1 col1\" >1.000000</td>\n",
       "      <td id=\"T_e70dc_row1_col2\" class=\"data row1 col2\" >-0.154128</td>\n",
       "      <td id=\"T_e70dc_row1_col3\" class=\"data row1 col3\" >0.001554</td>\n",
       "      <td id=\"T_e70dc_row1_col4\" class=\"data row1 col4\" >0.029599</td>\n",
       "      <td id=\"T_e70dc_row1_col5\" class=\"data row1 col5\" >-0.050836</td>\n",
       "      <td id=\"T_e70dc_row1_col6\" class=\"data row1 col6\" >-0.016491</td>\n",
       "      <td id=\"T_e70dc_row1_col7\" class=\"data row1 col7\" >0.022418</td>\n",
       "      <td id=\"T_e70dc_row1_col8\" class=\"data row1 col8\" >0.032531</td>\n",
       "      <td id=\"T_e70dc_row1_col9\" class=\"data row1 col9\" >0.041024</td>\n",
       "      <td id=\"T_e70dc_row1_col10\" class=\"data row1 col10\" >0.064189</td>\n",
       "    </tr>\n",
       "    <tr>\n",
       "      <th id=\"T_e70dc_level0_row2\" class=\"row_heading level0 row2\" >education</th>\n",
       "      <td id=\"T_e70dc_row2_col0\" class=\"data row2 col0\" >0.322520</td>\n",
       "      <td id=\"T_e70dc_row2_col1\" class=\"data row2 col1\" >-0.154128</td>\n",
       "      <td id=\"T_e70dc_row2_col2\" class=\"data row2 col2\" >1.000000</td>\n",
       "      <td id=\"T_e70dc_row2_col3\" class=\"data row2 col3\" >0.016049</td>\n",
       "      <td id=\"T_e70dc_row2_col4\" class=\"data row2 col4\" >-0.060658</td>\n",
       "      <td id=\"T_e70dc_row2_col5\" class=\"data row2 col5\" >0.011918</td>\n",
       "      <td id=\"T_e70dc_row2_col6\" class=\"data row2 col6\" >-0.151301</td>\n",
       "      <td id=\"T_e70dc_row2_col7\" class=\"data row2 col7\" >-0.068814</td>\n",
       "      <td id=\"T_e70dc_row2_col8\" class=\"data row2 col8\" >-0.067168</td>\n",
       "      <td id=\"T_e70dc_row2_col9\" class=\"data row2 col9\" >-0.171026</td>\n",
       "      <td id=\"T_e70dc_row2_col10\" class=\"data row2 col10\" >-0.071725</td>\n",
       "    </tr>\n",
       "    <tr>\n",
       "      <th id=\"T_e70dc_level0_row3\" class=\"row_heading level0 row3\" >default</th>\n",
       "      <td id=\"T_e70dc_row3_col0\" class=\"data row3 col0\" >0.014703</td>\n",
       "      <td id=\"T_e70dc_row3_col1\" class=\"data row3 col1\" >0.001554</td>\n",
       "      <td id=\"T_e70dc_row3_col2\" class=\"data row3 col2\" >0.016049</td>\n",
       "      <td id=\"T_e70dc_row3_col3\" class=\"data row3 col3\" >1.000000</td>\n",
       "      <td id=\"T_e70dc_row3_col4\" class=\"data row3 col4\" >0.009280</td>\n",
       "      <td id=\"T_e70dc_row3_col5\" class=\"data row3 col5\" >0.070702</td>\n",
       "      <td id=\"T_e70dc_row3_col6\" class=\"data row3 col6\" >-0.016841</td>\n",
       "      <td id=\"T_e70dc_row3_col7\" class=\"data row3 col7\" >-0.038747</td>\n",
       "      <td id=\"T_e70dc_row3_col8\" class=\"data row3 col8\" >-0.031657</td>\n",
       "      <td id=\"T_e70dc_row3_col9\" class=\"data row3 col9\" >-0.012803</td>\n",
       "      <td id=\"T_e70dc_row3_col10\" class=\"data row3 col10\" >-0.019499</td>\n",
       "    </tr>\n",
       "    <tr>\n",
       "      <th id=\"T_e70dc_level0_row4\" class=\"row_heading level0 row4\" >housing</th>\n",
       "      <td id=\"T_e70dc_row4_col0\" class=\"data row4 col0\" >0.052587</td>\n",
       "      <td id=\"T_e70dc_row4_col1\" class=\"data row4 col1\" >0.029599</td>\n",
       "      <td id=\"T_e70dc_row4_col2\" class=\"data row4 col2\" >-0.060658</td>\n",
       "      <td id=\"T_e70dc_row4_col3\" class=\"data row4 col3\" >0.009280</td>\n",
       "      <td id=\"T_e70dc_row4_col4\" class=\"data row4 col4\" >1.000000</td>\n",
       "      <td id=\"T_e70dc_row4_col5\" class=\"data row4 col5\" >-0.039893</td>\n",
       "      <td id=\"T_e70dc_row4_col6\" class=\"data row4 col6\" >0.375342</td>\n",
       "      <td id=\"T_e70dc_row4_col7\" class=\"data row4 col7\" >0.018117</td>\n",
       "      <td id=\"T_e70dc_row4_col8\" class=\"data row4 col8\" >0.872365</td>\n",
       "      <td id=\"T_e70dc_row4_col9\" class=\"data row4 col9\" >0.183800</td>\n",
       "      <td id=\"T_e70dc_row4_col10\" class=\"data row4 col10\" >0.139716</td>\n",
       "    </tr>\n",
       "    <tr>\n",
       "      <th id=\"T_e70dc_level0_row5\" class=\"row_heading level0 row5\" >loan</th>\n",
       "      <td id=\"T_e70dc_row5_col0\" class=\"data row5 col0\" >-0.017024</td>\n",
       "      <td id=\"T_e70dc_row5_col1\" class=\"data row5 col1\" >-0.050836</td>\n",
       "      <td id=\"T_e70dc_row5_col2\" class=\"data row5 col2\" >0.011918</td>\n",
       "      <td id=\"T_e70dc_row5_col3\" class=\"data row5 col3\" >0.070702</td>\n",
       "      <td id=\"T_e70dc_row5_col4\" class=\"data row5 col4\" >-0.039893</td>\n",
       "      <td id=\"T_e70dc_row5_col5\" class=\"data row5 col5\" >1.000000</td>\n",
       "      <td id=\"T_e70dc_row5_col6\" class=\"data row5 col6\" >-0.025525</td>\n",
       "      <td id=\"T_e70dc_row5_col7\" class=\"data row5 col7\" >-0.031689</td>\n",
       "      <td id=\"T_e70dc_row5_col8\" class=\"data row5 col8\" >-0.349241</td>\n",
       "      <td id=\"T_e70dc_row5_col9\" class=\"data row5 col9\" >0.016072</td>\n",
       "      <td id=\"T_e70dc_row5_col10\" class=\"data row5 col10\" >-0.069915</td>\n",
       "    </tr>\n",
       "    <tr>\n",
       "      <th id=\"T_e70dc_level0_row6\" class=\"row_heading level0 row6\" >month</th>\n",
       "      <td id=\"T_e70dc_row6_col0\" class=\"data row6 col0\" >-0.037787</td>\n",
       "      <td id=\"T_e70dc_row6_col1\" class=\"data row6 col1\" >-0.016491</td>\n",
       "      <td id=\"T_e70dc_row6_col2\" class=\"data row6 col2\" >-0.151301</td>\n",
       "      <td id=\"T_e70dc_row6_col3\" class=\"data row6 col3\" >-0.016841</td>\n",
       "      <td id=\"T_e70dc_row6_col4\" class=\"data row6 col4\" >0.375342</td>\n",
       "      <td id=\"T_e70dc_row6_col5\" class=\"data row6 col5\" >-0.025525</td>\n",
       "      <td id=\"T_e70dc_row6_col6\" class=\"data row6 col6\" >1.000000</td>\n",
       "      <td id=\"T_e70dc_row6_col7\" class=\"data row6 col7\" >0.193738</td>\n",
       "      <td id=\"T_e70dc_row6_col8\" class=\"data row6 col8\" >0.350613</td>\n",
       "      <td id=\"T_e70dc_row6_col9\" class=\"data row6 col9\" >0.511925</td>\n",
       "      <td id=\"T_e70dc_row6_col10\" class=\"data row6 col10\" >0.152311</td>\n",
       "    </tr>\n",
       "    <tr>\n",
       "      <th id=\"T_e70dc_level0_row7\" class=\"row_heading level0 row7\" >poutcome</th>\n",
       "      <td id=\"T_e70dc_row7_col0\" class=\"data row7 col0\" >-0.019977</td>\n",
       "      <td id=\"T_e70dc_row7_col1\" class=\"data row7 col1\" >0.022418</td>\n",
       "      <td id=\"T_e70dc_row7_col2\" class=\"data row7 col2\" >-0.068814</td>\n",
       "      <td id=\"T_e70dc_row7_col3\" class=\"data row7 col3\" >-0.038747</td>\n",
       "      <td id=\"T_e70dc_row7_col4\" class=\"data row7 col4\" >0.018117</td>\n",
       "      <td id=\"T_e70dc_row7_col5\" class=\"data row7 col5\" >-0.031689</td>\n",
       "      <td id=\"T_e70dc_row7_col6\" class=\"data row7 col6\" >0.193738</td>\n",
       "      <td id=\"T_e70dc_row7_col7\" class=\"data row7 col7\" >1.000000</td>\n",
       "      <td id=\"T_e70dc_row7_col8\" class=\"data row7 col8\" >0.039621</td>\n",
       "      <td id=\"T_e70dc_row7_col9\" class=\"data row7 col9\" >0.235826</td>\n",
       "      <td id=\"T_e70dc_row7_col10\" class=\"data row7 col10\" >0.259882</td>\n",
       "    </tr>\n",
       "    <tr>\n",
       "      <th id=\"T_e70dc_level0_row8\" class=\"row_heading level0 row8\" >any_loans</th>\n",
       "      <td id=\"T_e70dc_row8_col0\" class=\"data row8 col0\" >0.055425</td>\n",
       "      <td id=\"T_e70dc_row8_col1\" class=\"data row8 col1\" >0.032531</td>\n",
       "      <td id=\"T_e70dc_row8_col2\" class=\"data row8 col2\" >-0.067168</td>\n",
       "      <td id=\"T_e70dc_row8_col3\" class=\"data row8 col3\" >-0.031657</td>\n",
       "      <td id=\"T_e70dc_row8_col4\" class=\"data row8 col4\" >0.872365</td>\n",
       "      <td id=\"T_e70dc_row8_col5\" class=\"data row8 col5\" >-0.349241</td>\n",
       "      <td id=\"T_e70dc_row8_col6\" class=\"data row8 col6\" >0.350613</td>\n",
       "      <td id=\"T_e70dc_row8_col7\" class=\"data row8 col7\" >0.039621</td>\n",
       "      <td id=\"T_e70dc_row8_col8\" class=\"data row8 col8\" >1.000000</td>\n",
       "      <td id=\"T_e70dc_row8_col9\" class=\"data row8 col9\" >0.157283</td>\n",
       "      <td id=\"T_e70dc_row8_col10\" class=\"data row8 col10\" >0.159631</td>\n",
       "    </tr>\n",
       "    <tr>\n",
       "      <th id=\"T_e70dc_level0_row9\" class=\"row_heading level0 row9\" >contact</th>\n",
       "      <td id=\"T_e70dc_row9_col0\" class=\"data row9 col0\" >-0.072204</td>\n",
       "      <td id=\"T_e70dc_row9_col1\" class=\"data row9 col1\" >0.041024</td>\n",
       "      <td id=\"T_e70dc_row9_col2\" class=\"data row9 col2\" >-0.171026</td>\n",
       "      <td id=\"T_e70dc_row9_col3\" class=\"data row9 col3\" >-0.012803</td>\n",
       "      <td id=\"T_e70dc_row9_col4\" class=\"data row9 col4\" >0.183800</td>\n",
       "      <td id=\"T_e70dc_row9_col5\" class=\"data row9 col5\" >0.016072</td>\n",
       "      <td id=\"T_e70dc_row9_col6\" class=\"data row9 col6\" >0.511925</td>\n",
       "      <td id=\"T_e70dc_row9_col7\" class=\"data row9 col7\" >0.235826</td>\n",
       "      <td id=\"T_e70dc_row9_col8\" class=\"data row9 col8\" >0.157283</td>\n",
       "      <td id=\"T_e70dc_row9_col9\" class=\"data row9 col9\" >1.000000</td>\n",
       "      <td id=\"T_e70dc_row9_col10\" class=\"data row9 col10\" >0.147076</td>\n",
       "    </tr>\n",
       "    <tr>\n",
       "      <th id=\"T_e70dc_level0_row10\" class=\"row_heading level0 row10\" >y</th>\n",
       "      <td id=\"T_e70dc_row10_col0\" class=\"data row10 col0\" >-0.000710</td>\n",
       "      <td id=\"T_e70dc_row10_col1\" class=\"data row10 col1\" >0.064189</td>\n",
       "      <td id=\"T_e70dc_row10_col2\" class=\"data row10 col2\" >-0.071725</td>\n",
       "      <td id=\"T_e70dc_row10_col3\" class=\"data row10 col3\" >-0.019499</td>\n",
       "      <td id=\"T_e70dc_row10_col4\" class=\"data row10 col4\" >0.139716</td>\n",
       "      <td id=\"T_e70dc_row10_col5\" class=\"data row10 col5\" >-0.069915</td>\n",
       "      <td id=\"T_e70dc_row10_col6\" class=\"data row10 col6\" >0.152311</td>\n",
       "      <td id=\"T_e70dc_row10_col7\" class=\"data row10 col7\" >0.259882</td>\n",
       "      <td id=\"T_e70dc_row10_col8\" class=\"data row10 col8\" >0.159631</td>\n",
       "      <td id=\"T_e70dc_row10_col9\" class=\"data row10 col9\" >0.147076</td>\n",
       "      <td id=\"T_e70dc_row10_col10\" class=\"data row10 col10\" >1.000000</td>\n",
       "    </tr>\n",
       "  </tbody>\n",
       "</table>\n"
      ],
      "text/plain": [
       "<pandas.io.formats.style.Styler at 0x7facd89ca710>"
      ]
     },
     "execution_count": 37,
     "metadata": {},
     "output_type": "execute_result"
    }
   ],
   "source": [
    "pd.concat([X[categorical_columns + ['contact']], y], axis=1).corr().style.background_gradient(cmap='coolwarm')"
   ]
  },
  {
   "cell_type": "markdown",
   "id": "df48c5b0-a4b4-4a6c-b94b-8b80b68a20d9",
   "metadata": {
    "editable": true,
    "slideshow": {
     "slide_type": "slide"
    },
    "tags": []
   },
   "source": [
    "### Summary\n",
    "\n",
    "Data cleanup:\n",
    "* Remove outliers\n",
    "* Drop columns: day, contact (opt)\n",
    "\n",
    "New features:\n",
    "* discrete_pdays\n",
    "* total_contacts = campaign + previous\n",
    "* any_loans = housing or loan"
   ]
  },
  {
   "cell_type": "markdown",
   "id": "95fdafef-b423-4e19-8836-3ffc0059c488",
   "metadata": {
    "editable": true,
    "slideshow": {
     "slide_type": "slide"
    },
    "tags": []
   },
   "source": [
    "## Preprocessing"
   ]
  },
  {
   "cell_type": "code",
   "execution_count": 38,
   "id": "658e6d7c-34f2-400f-98dc-c0a8dbc19875",
   "metadata": {
    "editable": true,
    "slideshow": {
     "slide_type": "skip"
    },
    "tags": []
   },
   "outputs": [],
   "source": [
    "X, y = read_data('traindata.txt')\n",
    "\n",
    "numerical_columns = [col for col in X.columns if X[col].dtype in [\"int64\", \"float64\"]]\n",
    "categorical_columns = [col for col in X.columns if X[col].dtype in [\"object\"]]"
   ]
  },
  {
   "cell_type": "code",
   "execution_count": 39,
   "id": "78c7e182-6438-48dc-8550-8b6c077033f8",
   "metadata": {
    "editable": true,
    "slideshow": {
     "slide_type": "fragment"
    },
    "tags": []
   },
   "outputs": [],
   "source": [
    "remove_outliers(X, y, numerical_columns)\n",
    "\n",
    "\"\"\"\n",
    "Drop: day, contact\n",
    "Replace:\n",
    "    poutcome: other->failure, unknown->na\n",
    "    education: unknown->primary\n",
    "\"\"\" \n",
    "\n",
    "def new_features(X):\n",
    "    #X['discrete_pdays'] = X.pdays.apply(discretize_pdays)\n",
    "    X['total_contacts'] = X.campaign + X.previous\n",
    "    X['any_loans'] = np.logical_or(X.housing == \"yes\", X.loan == \"yes\")\n",
    "    return X\n",
    "\n",
    "feature_engineer = FunctionTransformer(new_features)"
   ]
  },
  {
   "cell_type": "markdown",
   "id": "ad92a114-5de0-44bc-ae89-d8a7e1289806",
   "metadata": {
    "editable": true,
    "slideshow": {
     "slide_type": "slide"
    },
    "tags": []
   },
   "source": [
    "### Transforming the data\n",
    "\n",
    "* `data_cleaner`\n",
    "* `feature_engineer`\n",
    "* `StandardScaler` on `numerical_columns`\n",
    "* `OneHotEncoder` on `categorical_columns`\n",
    "* Combine these into `column_transformer`\n",
    "* `Normalizer` on samples"
   ]
  },
  {
   "cell_type": "code",
   "execution_count": 40,
   "id": "78777a8f-240c-46a0-b4cc-f990fb4de048",
   "metadata": {
    "editable": true,
    "slideshow": {
     "slide_type": "skip"
    },
    "tags": []
   },
   "outputs": [],
   "source": [
    "from sklearn.compose import ColumnTransformer, make_column_selector\n",
    "\n",
    "# Need to derive so that we can retain column names\n",
    "class ColTransformer(ColumnTransformer):\n",
    "    def fit_transform(self, X, y):\n",
    "        Xt = super().fit_transform(X, y)\n",
    "        return pd.DataFrame(Xt, columns=self.get_feature_names_out()) \n",
    "        \n",
    "    def transform(self, X):\n",
    "        Xt = super().transform(X)\n",
    "        return pd.DataFrame(Xt, columns=self.get_feature_names_out()) "
   ]
  },
  {
   "cell_type": "code",
   "execution_count": 41,
   "id": "9acfd1cb-e3c8-4b78-a241-f15beadeb5f9",
   "metadata": {
    "editable": true,
    "slideshow": {
     "slide_type": "skip"
    },
    "tags": []
   },
   "outputs": [],
   "source": [
    "# See:\n",
    "#   https://scikit-learn.org/stable/modules/compose.html#pipeline\n",
    "#   https://www.kaggle.com/code/alexisbcook/pipelines/tutorial\n",
    "\n",
    "from sklearn.pipeline import Pipeline\n",
    "from sklearn.preprocessing import OneHotEncoder, StandardScaler, Normalizer\n",
    "\n",
    "numerical_transformer = Pipeline([\n",
    "    ('scaler', StandardScaler()),\n",
    "])\n",
    "\n",
    "categorical_transformer = Pipeline([\n",
    "    # If you think about it, OrdinalEncoder for months as we \n",
    "    # do IRL, to write our dates, doesn't really make sense:\n",
    "    # Jan comes before Feb, but doesn't mean Jan < Feb numerically.\n",
    "    ('onehotencoder', OneHotEncoder(handle_unknown=\"ignore\", sparse_output=False)),\n",
    "\n",
    "    # Should we scale after OHE, since we are scaling numerical features?\n",
    "    # If needed (say for PCA), set sparse_output=False in OHE.\n",
    "    ('scaler', StandardScaler()),\n",
    "])\n",
    "\n",
    "column_transformer = ColTransformer([\n",
    "    ('num', numerical_transformer, make_column_selector(dtype_include=np.number)), \n",
    "    ('cat', categorical_transformer, make_column_selector(dtype_include=['object'])),\n",
    "], verbose_feature_names_out=False)"
   ]
  },
  {
   "cell_type": "code",
   "execution_count": 42,
   "id": "f316e5cf-e251-49ee-9d71-94c1c7aedea1",
   "metadata": {
    "editable": true,
    "slideshow": {
     "slide_type": "skip"
    },
    "tags": []
   },
   "outputs": [],
   "source": [
    "from sklearn.model_selection import train_test_split, cross_val_score, StratifiedKFold\n",
    "\n",
    "from sklearn.metrics import classification_report, confusion_matrix\n",
    "from sklearn.metrics import (\n",
    "    accuracy_score,\n",
    "    precision_score,\n",
    "    recall_score,\n",
    "    balanced_accuracy_score,\n",
    "    f1_score,\n",
    "    fbeta_score,\n",
    "    matthews_corrcoef,\n",
    ")\n",
    "\n",
    "def score(model, X, y, method='custom', scoring='balanced_accuracy'):\n",
    "    if method == \"cross_val_score\":\n",
    "        return {\n",
    "            'cv_'+scoring: cross_val_score(\n",
    "                model, X, y, scoring=scoring, n_jobs=-1,\n",
    "                cv=StratifiedKFold(shuffle=True, random_state=0)\n",
    "            ).mean()\n",
    "        }\n",
    "        \n",
    "    X_train, X_val, y_train, y_val = train_test_split(X, y, random_state=0, stratify=y)\n",
    "    \n",
    "    model.fit(X_train, y_train)\n",
    "    y_pred = model.predict(X_val)\n",
    "    \n",
    "    if method == \"classification_report\":\n",
    "        return classification_report(y_pred, y_val)\n",
    "    if method == \"confusion_matrix\":\n",
    "        return confusion_matrix(y_val, y_pred)\n",
    "\n",
    "    return {\n",
    "        'accuracy': accuracy_score(y_val, y_pred),\n",
    "        'precision_pos': precision_score(y_val, y_pred),\n",
    "        'recall_pos': recall_score(y_val, y_pred),\n",
    "        'f1': f1_score(y_val, y_pred),\n",
    "        'f1_micro': f1_score(y_val, y_pred, average='micro'),\n",
    "        'f1_macro': f1_score(y_val, y_pred, average='macro'),\n",
    "        'f2': fbeta_score(y_val, y_pred, beta=2),\n",
    "        'mcc': matthews_corrcoef(y_val, y_pred),\n",
    "        'balanced_accuracy': balanced_accuracy_score(y_val, y_pred),\n",
    "    }"
   ]
  },
  {
   "cell_type": "markdown",
   "id": "cf3b9edd-293c-4e1e-ba85-d676bc61f96c",
   "metadata": {
    "editable": true,
    "slideshow": {
     "slide_type": "slide"
    },
    "tags": []
   },
   "source": [
    "Now that we have our the basic preprocessing down, let's test out a classifier with default parameters to see how well it does."
   ]
  },
  {
   "cell_type": "code",
   "execution_count": 43,
   "id": "14674ea1-df4f-4253-8b53-1297cad9e4cf",
   "metadata": {
    "editable": true,
    "slideshow": {
     "slide_type": "fragment"
    },
    "tags": []
   },
   "outputs": [
    {
     "data": {
      "text/plain": [
       "{'accuracy': 0.8911745189117452,\n",
       " 'precision_pos': 0.5989304812834224,\n",
       " 'recall_pos': 0.21172022684310018,\n",
       " 'f1': 0.3128491620111732,\n",
       " 'f1_micro': 0.8911745189117452,\n",
       " 'f1_macro': 0.6268785805251639,\n",
       " 'f2': 0.243161094224924,\n",
       " 'mcc': 0.31143224677077863,\n",
       " 'balanced_accuracy': 0.5964663258463998}"
      ]
     },
     "execution_count": 43,
     "metadata": {},
     "output_type": "execute_result"
    }
   ],
   "source": [
    "from sklearn.ensemble import RandomForestClassifier\n",
    "\n",
    "model = Pipeline([\n",
    "    ('cleaner', data_cleaner),\n",
    "    ('feature_engineer', feature_engineer),\n",
    "    ('column_transformer', column_transformer),\n",
    "    ('predictor', RandomForestClassifier(random_state=0))\n",
    "])\n",
    "score(model, X, y)"
   ]
  },
  {
   "cell_type": "markdown",
   "id": "ba7ac2da-dd06-4535-b870-2e53777ab4e0",
   "metadata": {
    "editable": true,
    "slideshow": {
     "slide_type": "fragment"
    },
    "tags": []
   },
   "source": [
    "It's not great. There are 48 columns after transformation and training data is lopsided, so this is expected."
   ]
  },
  {
   "attachments": {},
   "cell_type": "markdown",
   "id": "695bebee-7959-451e-8bbd-e6cd4485e51b",
   "metadata": {
    "editable": true,
    "slideshow": {
     "slide_type": "slide"
    },
    "tags": []
   },
   "source": [
    "### Selecting features\n",
    "\n",
    "See [scikit-learn's feature selection](https://scikit-learn.org/stable/modules/feature_selection.html).\n",
    "\n",
    "Why feature selection?\n",
    "* Remove noisy features: avoid overfitting\n",
    "* Remove interdependent features\n",
    "* Shorten training time and reduce model size\n",
    "* Make it easier to visualize\n",
    "\n",
    "Some models do feature selection as part of the training (yay). Feature selection method that works for one model might not necessarily work for a different kind of model. So, let's explore a few different ways."
   ]
  },
  {
   "cell_type": "code",
   "execution_count": 44,
   "id": "41bd6efc-9e2a-4211-9a57-1f5f3df6b95d",
   "metadata": {
    "editable": true,
    "slideshow": {
     "slide_type": "slide"
    },
    "tags": []
   },
   "outputs": [
    {
     "data": {
      "text/html": [
       "<div>\n",
       "<style scoped>\n",
       "    .dataframe tbody tr th:only-of-type {\n",
       "        vertical-align: middle;\n",
       "    }\n",
       "\n",
       "    .dataframe tbody tr th {\n",
       "        vertical-align: top;\n",
       "    }\n",
       "\n",
       "    .dataframe thead th {\n",
       "        text-align: right;\n",
       "    }\n",
       "</style>\n",
       "<table border=\"1\" class=\"dataframe\">\n",
       "  <thead>\n",
       "    <tr style=\"text-align: right;\">\n",
       "      <th></th>\n",
       "      <th>age</th>\n",
       "      <th>balance</th>\n",
       "      <th>day</th>\n",
       "      <th>campaign</th>\n",
       "      <th>pdays</th>\n",
       "      <th>previous</th>\n",
       "      <th>total_contacts</th>\n",
       "      <th>job_admin.</th>\n",
       "      <th>job_blue-collar</th>\n",
       "      <th>job_entrepreneur</th>\n",
       "      <th>...</th>\n",
       "      <th>month_jul</th>\n",
       "      <th>month_jun</th>\n",
       "      <th>month_mar</th>\n",
       "      <th>month_may</th>\n",
       "      <th>month_nov</th>\n",
       "      <th>month_oct</th>\n",
       "      <th>month_sep</th>\n",
       "      <th>poutcome_failure</th>\n",
       "      <th>poutcome_na</th>\n",
       "      <th>poutcome_success</th>\n",
       "    </tr>\n",
       "  </thead>\n",
       "  <tbody>\n",
       "    <tr>\n",
       "      <th>0</th>\n",
       "      <td>0.099649</td>\n",
       "      <td>-0.465780</td>\n",
       "      <td>1.590410</td>\n",
       "      <td>6.485410</td>\n",
       "      <td>-0.409359</td>\n",
       "      <td>-0.243040</td>\n",
       "      <td>5.087686</td>\n",
       "      <td>-0.360657</td>\n",
       "      <td>-0.524536</td>\n",
       "      <td>-0.186205</td>\n",
       "      <td>...</td>\n",
       "      <td>2.364906</td>\n",
       "      <td>-0.367136</td>\n",
       "      <td>-0.103318</td>\n",
       "      <td>-0.662576</td>\n",
       "      <td>-0.309410</td>\n",
       "      <td>-0.128554</td>\n",
       "      <td>-0.11325</td>\n",
       "      <td>-0.416059</td>\n",
       "      <td>0.470046</td>\n",
       "      <td>-0.185886</td>\n",
       "    </tr>\n",
       "    <tr>\n",
       "      <th>1</th>\n",
       "      <td>0.853196</td>\n",
       "      <td>-0.406390</td>\n",
       "      <td>-0.093650</td>\n",
       "      <td>-0.246819</td>\n",
       "      <td>-0.409359</td>\n",
       "      <td>-0.243040</td>\n",
       "      <td>-0.349399</td>\n",
       "      <td>-0.360657</td>\n",
       "      <td>-0.524536</td>\n",
       "      <td>-0.186205</td>\n",
       "      <td>...</td>\n",
       "      <td>-0.422850</td>\n",
       "      <td>-0.367136</td>\n",
       "      <td>-0.103318</td>\n",
       "      <td>1.509261</td>\n",
       "      <td>-0.309410</td>\n",
       "      <td>-0.128554</td>\n",
       "      <td>-0.11325</td>\n",
       "      <td>-0.416059</td>\n",
       "      <td>0.470046</td>\n",
       "      <td>-0.185886</td>\n",
       "    </tr>\n",
       "    <tr>\n",
       "      <th>2</th>\n",
       "      <td>0.570616</td>\n",
       "      <td>-0.309235</td>\n",
       "      <td>-1.296549</td>\n",
       "      <td>2.959004</td>\n",
       "      <td>-0.409359</td>\n",
       "      <td>-0.243040</td>\n",
       "      <td>2.239689</td>\n",
       "      <td>2.772718</td>\n",
       "      <td>-0.524536</td>\n",
       "      <td>-0.186205</td>\n",
       "      <td>...</td>\n",
       "      <td>-0.422850</td>\n",
       "      <td>2.723783</td>\n",
       "      <td>-0.103318</td>\n",
       "      <td>-0.662576</td>\n",
       "      <td>-0.309410</td>\n",
       "      <td>-0.128554</td>\n",
       "      <td>-0.11325</td>\n",
       "      <td>-0.416059</td>\n",
       "      <td>0.470046</td>\n",
       "      <td>-0.185886</td>\n",
       "    </tr>\n",
       "    <tr>\n",
       "      <th>3</th>\n",
       "      <td>-0.182931</td>\n",
       "      <td>-0.133323</td>\n",
       "      <td>0.026640</td>\n",
       "      <td>-0.567401</td>\n",
       "      <td>-0.409359</td>\n",
       "      <td>-0.243040</td>\n",
       "      <td>-0.608308</td>\n",
       "      <td>2.772718</td>\n",
       "      <td>-0.524536</td>\n",
       "      <td>-0.186205</td>\n",
       "      <td>...</td>\n",
       "      <td>-0.422850</td>\n",
       "      <td>2.723783</td>\n",
       "      <td>-0.103318</td>\n",
       "      <td>-0.662576</td>\n",
       "      <td>-0.309410</td>\n",
       "      <td>-0.128554</td>\n",
       "      <td>-0.11325</td>\n",
       "      <td>-0.416059</td>\n",
       "      <td>0.470046</td>\n",
       "      <td>-0.185886</td>\n",
       "    </tr>\n",
       "    <tr>\n",
       "      <th>4</th>\n",
       "      <td>-1.030671</td>\n",
       "      <td>-0.323114</td>\n",
       "      <td>1.710700</td>\n",
       "      <td>-0.246819</td>\n",
       "      <td>-0.409359</td>\n",
       "      <td>-0.243040</td>\n",
       "      <td>-0.349399</td>\n",
       "      <td>-0.360657</td>\n",
       "      <td>-0.524536</td>\n",
       "      <td>-0.186205</td>\n",
       "      <td>...</td>\n",
       "      <td>-0.422850</td>\n",
       "      <td>-0.367136</td>\n",
       "      <td>-0.103318</td>\n",
       "      <td>-0.662576</td>\n",
       "      <td>-0.309410</td>\n",
       "      <td>-0.128554</td>\n",
       "      <td>-0.11325</td>\n",
       "      <td>-0.416059</td>\n",
       "      <td>0.470046</td>\n",
       "      <td>-0.185886</td>\n",
       "    </tr>\n",
       "    <tr>\n",
       "      <th>...</th>\n",
       "      <td>...</td>\n",
       "      <td>...</td>\n",
       "      <td>...</td>\n",
       "      <td>...</td>\n",
       "      <td>...</td>\n",
       "      <td>...</td>\n",
       "      <td>...</td>\n",
       "      <td>...</td>\n",
       "      <td>...</td>\n",
       "      <td>...</td>\n",
       "      <td>...</td>\n",
       "      <td>...</td>\n",
       "      <td>...</td>\n",
       "      <td>...</td>\n",
       "      <td>...</td>\n",
       "      <td>...</td>\n",
       "      <td>...</td>\n",
       "      <td>...</td>\n",
       "      <td>...</td>\n",
       "      <td>...</td>\n",
       "      <td>...</td>\n",
       "    </tr>\n",
       "    <tr>\n",
       "      <th>36163</th>\n",
       "      <td>-1.030671</td>\n",
       "      <td>-0.039396</td>\n",
       "      <td>-0.334230</td>\n",
       "      <td>-0.567401</td>\n",
       "      <td>1.348628</td>\n",
       "      <td>0.176283</td>\n",
       "      <td>-0.349399</td>\n",
       "      <td>-0.360657</td>\n",
       "      <td>-0.524536</td>\n",
       "      <td>-0.186205</td>\n",
       "      <td>...</td>\n",
       "      <td>-0.422850</td>\n",
       "      <td>-0.367136</td>\n",
       "      <td>-0.103318</td>\n",
       "      <td>-0.662576</td>\n",
       "      <td>3.231961</td>\n",
       "      <td>-0.128554</td>\n",
       "      <td>-0.11325</td>\n",
       "      <td>2.403506</td>\n",
       "      <td>-2.127452</td>\n",
       "      <td>-0.185886</td>\n",
       "    </tr>\n",
       "    <tr>\n",
       "      <th>36164</th>\n",
       "      <td>1.795129</td>\n",
       "      <td>-0.385410</td>\n",
       "      <td>0.387510</td>\n",
       "      <td>-0.246819</td>\n",
       "      <td>-0.409359</td>\n",
       "      <td>-0.243040</td>\n",
       "      <td>-0.349399</td>\n",
       "      <td>-0.360657</td>\n",
       "      <td>1.906449</td>\n",
       "      <td>-0.186205</td>\n",
       "      <td>...</td>\n",
       "      <td>-0.422850</td>\n",
       "      <td>-0.367136</td>\n",
       "      <td>-0.103318</td>\n",
       "      <td>1.509261</td>\n",
       "      <td>-0.309410</td>\n",
       "      <td>-0.128554</td>\n",
       "      <td>-0.11325</td>\n",
       "      <td>-0.416059</td>\n",
       "      <td>0.470046</td>\n",
       "      <td>-0.185886</td>\n",
       "    </tr>\n",
       "    <tr>\n",
       "      <th>36165</th>\n",
       "      <td>0.005456</td>\n",
       "      <td>-0.529044</td>\n",
       "      <td>1.349830</td>\n",
       "      <td>0.073764</td>\n",
       "      <td>-0.409359</td>\n",
       "      <td>-0.243040</td>\n",
       "      <td>-0.090491</td>\n",
       "      <td>-0.360657</td>\n",
       "      <td>-0.524536</td>\n",
       "      <td>-0.186205</td>\n",
       "      <td>...</td>\n",
       "      <td>-0.422850</td>\n",
       "      <td>-0.367136</td>\n",
       "      <td>-0.103318</td>\n",
       "      <td>1.509261</td>\n",
       "      <td>-0.309410</td>\n",
       "      <td>-0.128554</td>\n",
       "      <td>-0.11325</td>\n",
       "      <td>-0.416059</td>\n",
       "      <td>0.470046</td>\n",
       "      <td>-0.185886</td>\n",
       "    </tr>\n",
       "    <tr>\n",
       "      <th>36166</th>\n",
       "      <td>0.382229</td>\n",
       "      <td>-0.407358</td>\n",
       "      <td>1.470120</td>\n",
       "      <td>0.073764</td>\n",
       "      <td>-0.409359</td>\n",
       "      <td>-0.243040</td>\n",
       "      <td>-0.090491</td>\n",
       "      <td>-0.360657</td>\n",
       "      <td>1.906449</td>\n",
       "      <td>-0.186205</td>\n",
       "      <td>...</td>\n",
       "      <td>-0.422850</td>\n",
       "      <td>-0.367136</td>\n",
       "      <td>-0.103318</td>\n",
       "      <td>-0.662576</td>\n",
       "      <td>-0.309410</td>\n",
       "      <td>-0.128554</td>\n",
       "      <td>-0.11325</td>\n",
       "      <td>-0.416059</td>\n",
       "      <td>0.470046</td>\n",
       "      <td>-0.185886</td>\n",
       "    </tr>\n",
       "    <tr>\n",
       "      <th>36167</th>\n",
       "      <td>-0.088737</td>\n",
       "      <td>0.894387</td>\n",
       "      <td>-0.574810</td>\n",
       "      <td>0.073764</td>\n",
       "      <td>1.338582</td>\n",
       "      <td>1.853574</td>\n",
       "      <td>1.204053</td>\n",
       "      <td>-0.360657</td>\n",
       "      <td>-0.524536</td>\n",
       "      <td>-0.186205</td>\n",
       "      <td>...</td>\n",
       "      <td>-0.422850</td>\n",
       "      <td>-0.367136</td>\n",
       "      <td>-0.103318</td>\n",
       "      <td>1.509261</td>\n",
       "      <td>-0.309410</td>\n",
       "      <td>-0.128554</td>\n",
       "      <td>-0.11325</td>\n",
       "      <td>2.403506</td>\n",
       "      <td>-2.127452</td>\n",
       "      <td>-0.185886</td>\n",
       "    </tr>\n",
       "  </tbody>\n",
       "</table>\n",
       "<p>36168 rows × 48 columns</p>\n",
       "</div>"
      ],
      "text/plain": [
       "            age   balance       day  campaign     pdays  previous  \\\n",
       "0      0.099649 -0.465780  1.590410  6.485410 -0.409359 -0.243040   \n",
       "1      0.853196 -0.406390 -0.093650 -0.246819 -0.409359 -0.243040   \n",
       "2      0.570616 -0.309235 -1.296549  2.959004 -0.409359 -0.243040   \n",
       "3     -0.182931 -0.133323  0.026640 -0.567401 -0.409359 -0.243040   \n",
       "4     -1.030671 -0.323114  1.710700 -0.246819 -0.409359 -0.243040   \n",
       "...         ...       ...       ...       ...       ...       ...   \n",
       "36163 -1.030671 -0.039396 -0.334230 -0.567401  1.348628  0.176283   \n",
       "36164  1.795129 -0.385410  0.387510 -0.246819 -0.409359 -0.243040   \n",
       "36165  0.005456 -0.529044  1.349830  0.073764 -0.409359 -0.243040   \n",
       "36166  0.382229 -0.407358  1.470120  0.073764 -0.409359 -0.243040   \n",
       "36167 -0.088737  0.894387 -0.574810  0.073764  1.338582  1.853574   \n",
       "\n",
       "       total_contacts  job_admin.  job_blue-collar  job_entrepreneur  ...  \\\n",
       "0            5.087686   -0.360657        -0.524536         -0.186205  ...   \n",
       "1           -0.349399   -0.360657        -0.524536         -0.186205  ...   \n",
       "2            2.239689    2.772718        -0.524536         -0.186205  ...   \n",
       "3           -0.608308    2.772718        -0.524536         -0.186205  ...   \n",
       "4           -0.349399   -0.360657        -0.524536         -0.186205  ...   \n",
       "...               ...         ...              ...               ...  ...   \n",
       "36163       -0.349399   -0.360657        -0.524536         -0.186205  ...   \n",
       "36164       -0.349399   -0.360657         1.906449         -0.186205  ...   \n",
       "36165       -0.090491   -0.360657        -0.524536         -0.186205  ...   \n",
       "36166       -0.090491   -0.360657         1.906449         -0.186205  ...   \n",
       "36167        1.204053   -0.360657        -0.524536         -0.186205  ...   \n",
       "\n",
       "       month_jul  month_jun  month_mar  month_may  month_nov  month_oct  \\\n",
       "0       2.364906  -0.367136  -0.103318  -0.662576  -0.309410  -0.128554   \n",
       "1      -0.422850  -0.367136  -0.103318   1.509261  -0.309410  -0.128554   \n",
       "2      -0.422850   2.723783  -0.103318  -0.662576  -0.309410  -0.128554   \n",
       "3      -0.422850   2.723783  -0.103318  -0.662576  -0.309410  -0.128554   \n",
       "4      -0.422850  -0.367136  -0.103318  -0.662576  -0.309410  -0.128554   \n",
       "...          ...        ...        ...        ...        ...        ...   \n",
       "36163  -0.422850  -0.367136  -0.103318  -0.662576   3.231961  -0.128554   \n",
       "36164  -0.422850  -0.367136  -0.103318   1.509261  -0.309410  -0.128554   \n",
       "36165  -0.422850  -0.367136  -0.103318   1.509261  -0.309410  -0.128554   \n",
       "36166  -0.422850  -0.367136  -0.103318  -0.662576  -0.309410  -0.128554   \n",
       "36167  -0.422850  -0.367136  -0.103318   1.509261  -0.309410  -0.128554   \n",
       "\n",
       "       month_sep  poutcome_failure  poutcome_na  poutcome_success  \n",
       "0       -0.11325         -0.416059     0.470046         -0.185886  \n",
       "1       -0.11325         -0.416059     0.470046         -0.185886  \n",
       "2       -0.11325         -0.416059     0.470046         -0.185886  \n",
       "3       -0.11325         -0.416059     0.470046         -0.185886  \n",
       "4       -0.11325         -0.416059     0.470046         -0.185886  \n",
       "...          ...               ...          ...               ...  \n",
       "36163   -0.11325          2.403506    -2.127452         -0.185886  \n",
       "36164   -0.11325         -0.416059     0.470046         -0.185886  \n",
       "36165   -0.11325         -0.416059     0.470046         -0.185886  \n",
       "36166   -0.11325         -0.416059     0.470046         -0.185886  \n",
       "36167   -0.11325          2.403506    -2.127452         -0.185886  \n",
       "\n",
       "[36168 rows x 48 columns]"
      ]
     },
     "execution_count": 44,
     "metadata": {},
     "output_type": "execute_result"
    }
   ],
   "source": [
    "Xt = Pipeline([\n",
    "    ('cleaner', data_cleaner),\n",
    "    ('feature_engineer', feature_engineer),\n",
    "    ('column_transformer', column_transformer),\n",
    "]).fit_transform(X, y)\n",
    "    \n",
    "Xt"
   ]
  },
  {
   "cell_type": "code",
   "execution_count": 45,
   "id": "ceb9c00f-66e6-4e3f-a65a-d24ef13514bf",
   "metadata": {},
   "outputs": [],
   "source": [
    "# Need to derive to retain feature names\n",
    "class FeatureSelector:\n",
    "    def __init__(self, selector):\n",
    "        self.selector = selector\n",
    "        \n",
    "    def fit(self, X, y=None):\n",
    "        return self.selector.fit(X, y)\n",
    "        \n",
    "    def fit_transform(self, X, y=None):\n",
    "        Xt = self.selector.fit_transform(X, y)\n",
    "        return pd.DataFrame(Xt, columns=self.get_feature_names_out()) \n",
    "        \n",
    "    def transform(self, X):\n",
    "        Xt = self.selector.transform(X)\n",
    "        return pd.DataFrame(Xt, columns=self.get_feature_names_out())\n",
    "\n",
    "    def get_feature_names_out(self):\n",
    "        return self.selector.get_feature_names_out()"
   ]
  },
  {
   "cell_type": "markdown",
   "id": "58f79b6b-a0ee-42f4-b12c-1dd25b4892f8",
   "metadata": {
    "editable": true,
    "slideshow": {
     "slide_type": "slide"
    },
    "tags": []
   },
   "source": [
    "**Method 1. Principal Component Analysis**\n",
    "\n",
    "Dimension reduction and removing dependent columns."
   ]
  },
  {
   "cell_type": "code",
   "execution_count": 46,
   "id": "e959dd65-f676-49f9-a4a4-99326b704bb2",
   "metadata": {
    "editable": true,
    "slideshow": {
     "slide_type": "fragment"
    },
    "tags": []
   },
   "outputs": [
    {
     "data": {
      "text/plain": [
       "33"
      ]
     },
     "execution_count": 46,
     "metadata": {},
     "output_type": "execute_result"
    }
   ],
   "source": [
    "from sklearn.decomposition import PCA\n",
    "\n",
    "pca_feature_selector = PCA(n_components=0.95)\n",
    "Xr = pd.DataFrame(pca_feature_selector.fit_transform(Xt))\n",
    "components = pd.DataFrame(pca_feature_selector.components_, columns=Xt.columns)\n",
    "\n",
    "len(components)"
   ]
  },
  {
   "cell_type": "markdown",
   "id": "8bbaba11-0feb-429f-a31e-9435cb2c805c",
   "metadata": {
    "editable": true,
    "slideshow": {
     "slide_type": "fragment"
    },
    "tags": []
   },
   "source": [
    "* 95% of the information is contained in 38 columns.\n",
    "* PCA is usually used on high-dimensional datasets; may not be as useful in our case.\n",
    "* Difficult to retrieve the column names -> difficult to explain model."
   ]
  },
  {
   "cell_type": "markdown",
   "id": "548b1b6e-a978-4cc2-a34d-724dce5c5b4c",
   "metadata": {
    "editable": true,
    "slideshow": {
     "slide_type": "slide"
    },
    "tags": []
   },
   "source": [
    "**Method 2. Univariate feature selection**:\n",
    "\n",
    "Remove features which are not correlated (according to `f_classif`) to the outcome class."
   ]
  },
  {
   "cell_type": "code",
   "execution_count": 47,
   "id": "2f6dc9e5-efda-4039-bb19-74b041307494",
   "metadata": {
    "editable": true,
    "slideshow": {
     "slide_type": "fragment"
    },
    "tags": []
   },
   "outputs": [
    {
     "data": {
      "text/plain": [
       "array(['pdays', 'housing_no', 'housing_yes', 'contact_cellular',\n",
       "       'contact_telephone', 'month_mar', 'month_oct', 'month_sep',\n",
       "       'poutcome_na', 'poutcome_success'], dtype=object)"
      ]
     },
     "execution_count": 47,
     "metadata": {},
     "output_type": "execute_result"
    }
   ],
   "source": [
    "from sklearn.feature_selection import f_classif, SelectPercentile\n",
    "\n",
    "# f_classif = ANOVA F-value\n",
    "# chi2 works on frequencies (non-negative)\n",
    "univariate_feature_selector = SelectPercentile(f_classif, percentile=20)\n",
    "Xu = FeatureSelector(univariate_feature_selector).fit_transform(Xt, y)\n",
    "univariate_feature_selector.get_feature_names_out()"
   ]
  },
  {
   "cell_type": "markdown",
   "id": "2908193f-4211-4bd5-a3ba-c2ca048730d2",
   "metadata": {
    "editable": true,
    "slideshow": {
     "slide_type": "slide"
    },
    "tags": []
   },
   "source": [
    "**Method 3.** Feature selection from model\n",
    "\n",
    "* Ones that compute feature importance.\n",
    "* May not be useful if using the same model for prediction."
   ]
  },
  {
   "cell_type": "code",
   "execution_count": 48,
   "id": "850337e1-1a69-46fd-b2ae-6e6abf5c5f32",
   "metadata": {
    "editable": true,
    "slideshow": {
     "slide_type": "fragment"
    },
    "tags": []
   },
   "outputs": [
    {
     "data": {
      "text/plain": [
       "array(['campaign', 'job_retired', 'housing_no', 'housing_yes',\n",
       "       'contact_cellular', 'contact_telephone', 'month_apr', 'month_aug',\n",
       "       'month_dec', 'month_jan', 'month_mar', 'month_nov', 'month_oct',\n",
       "       'month_sep', 'poutcome_failure', 'poutcome_na', 'poutcome_success'],\n",
       "      dtype=object)"
      ]
     },
     "execution_count": 48,
     "metadata": {},
     "output_type": "execute_result"
    }
   ],
   "source": [
    "from sklearn.feature_selection import SelectFromModel\n",
    "from sklearn.svm import LinearSVC\n",
    "\n",
    "# Feature model can be any which has coef_ or feature_importances_ attribute\n",
    "# Examples: GradientBoostingClassifier, SVC\n",
    "\n",
    "# Note: L1 doesn't converge\n",
    "feature_model = LinearSVC(dual=\"auto\", penalty=\"l2\")\n",
    "feature_selector = SelectFromModel(feature_model)\n",
    "\n",
    "Xs = FeatureSelector(feature_selector).fit_transform(Xt, y)\n",
    "feature_selector.get_feature_names_out()"
   ]
  },
  {
   "cell_type": "markdown",
   "id": "8213afaf-a703-46cd-83a9-3746c22f9a09",
   "metadata": {
    "editable": true,
    "slideshow": {
     "slide_type": "fragment"
    },
    "tags": []
   },
   "source": [
    "Great! We were able to reduce to 13 most important columns (`GradientBoostingClassifier` reduces to 10)."
   ]
  },
  {
   "cell_type": "markdown",
   "id": "3817db80-6ec3-4d5a-b069-fa2dec49c041",
   "metadata": {
    "editable": true,
    "slideshow": {
     "slide_type": "slide"
    },
    "tags": []
   },
   "source": [
    "**Method 4. Recursive Feature Elimination**\n",
    "\n",
    "Prune least important features and repeat recursively."
   ]
  },
  {
   "cell_type": "code",
   "execution_count": 49,
   "id": "bac68f6b-9b7a-4802-a980-bea3a808b929",
   "metadata": {
    "editable": true,
    "slideshow": {
     "slide_type": "fragment"
    },
    "tags": []
   },
   "outputs": [
    {
     "data": {
      "text/plain": [
       "array(['job_housemaid', 'job_retired', 'default_no', 'default_yes',\n",
       "       'month_mar', 'month_sep', 'poutcome_failure', 'poutcome_na',\n",
       "       'poutcome_success'], dtype=object)"
      ]
     },
     "execution_count": 49,
     "metadata": {},
     "output_type": "execute_result"
    }
   ],
   "source": [
    "from sklearn.feature_selection import RFE\n",
    "from sklearn.linear_model import SGDClassifier\n",
    "\n",
    "# selects half the features by default\n",
    "rfe_feature_selector = RFE(SGDClassifier(), n_features_to_select=0.2)\n",
    "\n",
    "rfe_feature_selector = rfe_feature_selector.fit(Xt, y)\n",
    "rfe_feature_selector.get_feature_names_out()"
   ]
  },
  {
   "cell_type": "markdown",
   "id": "362e53b4-98c4-4169-bf7f-065a673ed6a1",
   "metadata": {
    "editable": true,
    "slideshow": {
     "slide_type": "slide"
    },
    "tags": []
   },
   "source": [
    "Let's see if any of these feature selectors help."
   ]
  },
  {
   "cell_type": "code",
   "execution_count": 50,
   "id": "147095e4-b493-43d7-a5ca-2b440a3bb867",
   "metadata": {
    "editable": true,
    "slideshow": {
     "slide_type": "fragment"
    },
    "tags": []
   },
   "outputs": [
    {
     "data": {
      "text/html": [
       "<div>\n",
       "<style scoped>\n",
       "    .dataframe tbody tr th:only-of-type {\n",
       "        vertical-align: middle;\n",
       "    }\n",
       "\n",
       "    .dataframe tbody tr th {\n",
       "        vertical-align: top;\n",
       "    }\n",
       "\n",
       "    .dataframe thead th {\n",
       "        text-align: right;\n",
       "    }\n",
       "</style>\n",
       "<table border=\"1\" class=\"dataframe\">\n",
       "  <thead>\n",
       "    <tr style=\"text-align: right;\">\n",
       "      <th></th>\n",
       "      <th>accuracy</th>\n",
       "      <th>precision_pos</th>\n",
       "      <th>recall_pos</th>\n",
       "      <th>f1</th>\n",
       "      <th>f1_micro</th>\n",
       "      <th>f1_macro</th>\n",
       "      <th>f2</th>\n",
       "      <th>mcc</th>\n",
       "      <th>balanced_accuracy</th>\n",
       "    </tr>\n",
       "  </thead>\n",
       "  <tbody>\n",
       "    <tr>\n",
       "      <th>passthrough</th>\n",
       "      <td>0.892944</td>\n",
       "      <td>0.618421</td>\n",
       "      <td>0.222117</td>\n",
       "      <td>0.326843</td>\n",
       "      <td>0.892944</td>\n",
       "      <td>0.634345</td>\n",
       "      <td>0.254770</td>\n",
       "      <td>0.326730</td>\n",
       "      <td>0.601978</td>\n",
       "    </tr>\n",
       "    <tr>\n",
       "      <th>PCA(n_components=0.95)</th>\n",
       "      <td>0.888963</td>\n",
       "      <td>0.563380</td>\n",
       "      <td>0.226843</td>\n",
       "      <td>0.323450</td>\n",
       "      <td>0.888963</td>\n",
       "      <td>0.631484</td>\n",
       "      <td>0.257621</td>\n",
       "      <td>0.308787</td>\n",
       "      <td>0.601773</td>\n",
       "    </tr>\n",
       "    <tr>\n",
       "      <th>SelectPercentile(percentile=20)</th>\n",
       "      <td>0.884428</td>\n",
       "      <td>0.516796</td>\n",
       "      <td>0.189036</td>\n",
       "      <td>0.276817</td>\n",
       "      <td>0.884428</td>\n",
       "      <td>0.607006</td>\n",
       "      <td>0.216497</td>\n",
       "      <td>0.263003</td>\n",
       "      <td>0.582807</td>\n",
       "    </tr>\n",
       "    <tr>\n",
       "      <th>SelectFromModel(estimator=LinearSVC(dual='auto'))</th>\n",
       "      <td>0.888188</td>\n",
       "      <td>0.562667</td>\n",
       "      <td>0.199433</td>\n",
       "      <td>0.294487</td>\n",
       "      <td>0.888188</td>\n",
       "      <td>0.616885</td>\n",
       "      <td>0.228999</td>\n",
       "      <td>0.288399</td>\n",
       "      <td>0.589446</td>\n",
       "    </tr>\n",
       "    <tr>\n",
       "      <th>RFE(estimator=SGDClassifier())</th>\n",
       "      <td>0.883654</td>\n",
       "      <td>0.506696</td>\n",
       "      <td>0.214556</td>\n",
       "      <td>0.301461</td>\n",
       "      <td>0.883654</td>\n",
       "      <td>0.619002</td>\n",
       "      <td>0.242521</td>\n",
       "      <td>0.276802</td>\n",
       "      <td>0.593438</td>\n",
       "    </tr>\n",
       "  </tbody>\n",
       "</table>\n",
       "</div>"
      ],
      "text/plain": [
       "                                                   accuracy  precision_pos  \\\n",
       "passthrough                                        0.892944       0.618421   \n",
       "PCA(n_components=0.95)                             0.888963       0.563380   \n",
       "SelectPercentile(percentile=20)                    0.884428       0.516796   \n",
       "SelectFromModel(estimator=LinearSVC(dual='auto'))  0.888188       0.562667   \n",
       "RFE(estimator=SGDClassifier())                     0.883654       0.506696   \n",
       "\n",
       "                                                   recall_pos        f1  \\\n",
       "passthrough                                          0.222117  0.326843   \n",
       "PCA(n_components=0.95)                               0.226843  0.323450   \n",
       "SelectPercentile(percentile=20)                      0.189036  0.276817   \n",
       "SelectFromModel(estimator=LinearSVC(dual='auto'))    0.199433  0.294487   \n",
       "RFE(estimator=SGDClassifier())                       0.214556  0.301461   \n",
       "\n",
       "                                                   f1_micro  f1_macro  \\\n",
       "passthrough                                        0.892944  0.634345   \n",
       "PCA(n_components=0.95)                             0.888963  0.631484   \n",
       "SelectPercentile(percentile=20)                    0.884428  0.607006   \n",
       "SelectFromModel(estimator=LinearSVC(dual='auto'))  0.888188  0.616885   \n",
       "RFE(estimator=SGDClassifier())                     0.883654  0.619002   \n",
       "\n",
       "                                                         f2       mcc  \\\n",
       "passthrough                                        0.254770  0.326730   \n",
       "PCA(n_components=0.95)                             0.257621  0.308787   \n",
       "SelectPercentile(percentile=20)                    0.216497  0.263003   \n",
       "SelectFromModel(estimator=LinearSVC(dual='auto'))  0.228999  0.288399   \n",
       "RFE(estimator=SGDClassifier())                     0.242521  0.276802   \n",
       "\n",
       "                                                   balanced_accuracy  \n",
       "passthrough                                                 0.601978  \n",
       "PCA(n_components=0.95)                                      0.601773  \n",
       "SelectPercentile(percentile=20)                             0.582807  \n",
       "SelectFromModel(estimator=LinearSVC(dual='auto'))           0.589446  \n",
       "RFE(estimator=SGDClassifier())                              0.593438  "
      ]
     },
     "execution_count": 50,
     "metadata": {},
     "output_type": "execute_result"
    }
   ],
   "source": [
    "restab = {}\n",
    "for feature_selector in [\n",
    "    'passthrough',\n",
    "    PCA(0.95),\n",
    "    SelectPercentile(f_classif, percentile=20), \n",
    "    SelectFromModel(LinearSVC(dual=\"auto\", penalty=\"l2\")),\n",
    "    RFE(SGDClassifier()),\n",
    "]:\n",
    "    model = Pipeline([\n",
    "            ('cleaner', data_cleaner),\n",
    "            ('feature_engineer', 'passthrough'),\n",
    "            ('column_transformer', column_transformer),\n",
    "            ('feature_selector',  feature_selector),\n",
    "            ('predictor', RandomForestClassifier(random_state=0)),\n",
    "    ])\n",
    "    restab[str(feature_selector)] = score(model , X, y)\n",
    "    \n",
    "pd.DataFrame(restab).T"
   ]
  },
  {
   "cell_type": "markdown",
   "id": "a10d493f-97d1-4641-ba18-4499d2f84f54",
   "metadata": {
    "editable": true,
    "slideshow": {
     "slide_type": "fragment"
    },
    "tags": []
   },
   "source": [
    "As we can see, ~we have just wasted n hours of our life that we'll never get back (yay)~ there's not much of an improvement."
   ]
  },
  {
   "cell_type": "markdown",
   "id": "e2c667b8-7824-4f5c-ae58-819eadaf4c85",
   "metadata": {
    "editable": true,
    "slideshow": {
     "slide_type": "slide"
    },
    "tags": []
   },
   "source": [
    "### Oversampling\n",
    "\n",
    "We use [SMOTE](https://en.wikipedia.org/wiki/Oversampling_and_undersampling_in_data_analysis#SMOTE) from imblearn's [over_sampling](https://imbalanced-learn.org/dev/references/over_sampling.html#module-imblearn.over_sampling) module for oversampling."
   ]
  },
  {
   "cell_type": "code",
   "execution_count": 51,
   "id": "24c84b62-105e-4b00-87cc-e5978ca4e02d",
   "metadata": {
    "editable": true,
    "slideshow": {
     "slide_type": "fragment"
    },
    "tags": []
   },
   "outputs": [
    {
     "data": {
      "text/plain": [
       "(0    31937\n",
       " 1    31937\n",
       " Name: y, dtype: int64,\n",
       " 0    31937\n",
       " 1     4231\n",
       " Name: y, dtype: int64)"
      ]
     },
     "execution_count": 51,
     "metadata": {},
     "output_type": "execute_result"
    }
   ],
   "source": [
    "from imblearn.over_sampling import SMOTE\n",
    "\n",
    "smote = SMOTE(random_state=42)\n",
    "X_res, y_res = smote.fit_resample(Xt, y)\n",
    "y_res.value_counts(), y.value_counts()"
   ]
  },
  {
   "cell_type": "markdown",
   "id": "742fad78-2ed8-4d14-896a-bee35a458a5c",
   "metadata": {
    "editable": true,
    "slideshow": {
     "slide_type": "slide"
    },
    "tags": []
   },
   "source": [
    "Now, we include `SMOTE` in our pre-processing pipeline. Technically, sampling step should not be applied on test data. And, `sklearn.pipeline.Pipeline` doesn't really support samplers, so we use `imblearn.pipeline.Pipeline`."
   ]
  },
  {
   "cell_type": "code",
   "execution_count": 52,
   "id": "2c76ea7f-825a-47ab-b46a-83a98e90a523",
   "metadata": {
    "editable": true,
    "jp-MarkdownHeadingCollapsed": true,
    "slideshow": {
     "slide_type": "fragment"
    },
    "tags": []
   },
   "outputs": [
    {
     "data": {
      "text/plain": [
       "{'accuracy': 0.7959522229595223,\n",
       " 'precision_pos': 0.29234828496042214,\n",
       " 'recall_pos': 0.5236294896030246,\n",
       " 'f1': 0.3752116491703353,\n",
       " 'f1_micro': 0.7959522229595223,\n",
       " 'f1_macro': 0.6266382745223826,\n",
       " 'f2': 0.45209727435939284,\n",
       " 'mcc': 0.28088728857903644,\n",
       " 'balanced_accuracy': 0.6778342838796686}"
      ]
     },
     "execution_count": 52,
     "metadata": {},
     "output_type": "execute_result"
    }
   ],
   "source": [
    "from imblearn.pipeline import Pipeline as IMBPipeline\n",
    "\n",
    "# Must use IMBPipeline should you wish to include sampler\n",
    "model = IMBPipeline([\n",
    "    ('cleaner', data_cleaner),\n",
    "    ('feature_engineer', feature_engineer),\n",
    "    ('column_transformer', column_transformer),\n",
    "    ('feature_selector', SelectFromModel(estimator=LinearSVC(dual='auto'))),\n",
    "    ('oversampler', SMOTE(random_state=0)),\n",
    "    ('predictor', RandomForestClassifier(random_state=0)),\n",
    "])\n",
    "score(model, X, y)"
   ]
  },
  {
   "cell_type": "markdown",
   "id": "994ecaa3-ab46-4625-8cd1-d9d6a7c84da2",
   "metadata": {
    "editable": true,
    "slideshow": {
     "slide_type": "fragment"
    },
    "tags": []
   },
   "source": [
    "We see some improvement in balanced accuracy. This ends the pre-processing stage; let's move on to prediction!"
   ]
  },
  {
   "cell_type": "markdown",
   "id": "c531c978-6e3a-4a90-9243-e4761f5a07a7",
   "metadata": {
    "editable": true,
    "slideshow": {
     "slide_type": "slide"
    },
    "tags": []
   },
   "source": [
    "## Models\n",
    "\n",
    "Checkout [metrics for imbalanced classification](https://machinelearningmastery.com/tour-of-evaluation-metrics-for-imbalanced-classification).\n",
    "\n",
    "* False negatives are costlier than false positives: so not f1 score.\n",
    "* Recall is more important than precision: so f2 score.\n",
    "* Balanced accuracy is a generic metric for model comparisons."
   ]
  },
  {
   "cell_type": "markdown",
   "id": "066e77d5-c458-4a72-8444-68b4d9c7a1e8",
   "metadata": {
    "editable": true,
    "slideshow": {
     "slide_type": "slide"
    },
    "tags": []
   },
   "source": [
    "### Tree-based models"
   ]
  },
  {
   "cell_type": "code",
   "execution_count": 53,
   "id": "0be3062d-85f1-4301-b3e8-76c74f587931",
   "metadata": {
    "editable": true,
    "slideshow": {
     "slide_type": "fragment"
    },
    "tags": []
   },
   "outputs": [
    {
     "data": {
      "text/html": [
       "<div>\n",
       "<style scoped>\n",
       "    .dataframe tbody tr th:only-of-type {\n",
       "        vertical-align: middle;\n",
       "    }\n",
       "\n",
       "    .dataframe tbody tr th {\n",
       "        vertical-align: top;\n",
       "    }\n",
       "\n",
       "    .dataframe thead th {\n",
       "        text-align: right;\n",
       "    }\n",
       "</style>\n",
       "<table border=\"1\" class=\"dataframe\">\n",
       "  <thead>\n",
       "    <tr style=\"text-align: right;\">\n",
       "      <th></th>\n",
       "      <th>cv_balanced_accuracy</th>\n",
       "    </tr>\n",
       "  </thead>\n",
       "  <tbody>\n",
       "    <tr>\n",
       "      <th>RUSBoostClassifier(random_state=0)</th>\n",
       "      <td>0.701796</td>\n",
       "    </tr>\n",
       "    <tr>\n",
       "      <th>EasyEnsembleClassifier(n_jobs=-1, random_state=0)</th>\n",
       "      <td>0.703900</td>\n",
       "    </tr>\n",
       "    <tr>\n",
       "      <th>BalancedBaggingClassifier(estimator=GradientBoostingClassifier(), n_jobs=-1)</th>\n",
       "      <td>0.712930</td>\n",
       "    </tr>\n",
       "  </tbody>\n",
       "</table>\n",
       "</div>"
      ],
      "text/plain": [
       "                                                    cv_balanced_accuracy\n",
       "RUSBoostClassifier(random_state=0)                              0.701796\n",
       "EasyEnsembleClassifier(n_jobs=-1, random_state=0)               0.703900\n",
       "BalancedBaggingClassifier(estimator=GradientBoo...              0.712930"
      ]
     },
     "execution_count": 53,
     "metadata": {},
     "output_type": "execute_result"
    }
   ],
   "source": [
    "from sklearn.ensemble import GradientBoostingClassifier\n",
    "from imblearn.ensemble import (\n",
    "    EasyEnsembleClassifier,\n",
    "    RUSBoostClassifier,\n",
    "    BalancedBaggingClassifier,\n",
    ")\n",
    "\n",
    "restab = {}\n",
    "for oversampler, classifier in [\n",
    "    (SMOTE(random_state=0), RUSBoostClassifier(random_state=0)),\n",
    "    ('passthrough', EasyEnsembleClassifier(random_state=0, n_jobs=-1)),\n",
    "    ('passthrough', BalancedBaggingClassifier(estimator=GradientBoostingClassifier(), n_jobs=-1)),\n",
    "]:\n",
    "    model = IMBPipeline([\n",
    "        ('cleaner', data_cleaner),\n",
    "        ('feature_engineer', feature_engineer),\n",
    "        ('column_transformer', column_transformer),\n",
    "        ('feature_selector', FeatureSelector(SelectFromModel(estimator=GradientBoostingClassifier()))),\n",
    "        ('oversampler', oversampler),\n",
    "        ('nomalizer', Normalizer()),\n",
    "        ('classifier', classifier),\n",
    "    ])\n",
    "    restab[str(classifier)] = score(model, X, y, method='cross_val_score')\n",
    "pd.DataFrame(restab).T"
   ]
  },
  {
   "cell_type": "markdown",
   "id": "27df0dff-bc8a-406a-bd82-a500bdf89f9b",
   "metadata": {},
   "source": [
    "Example of GridSearchCV usage to get the best parameters for our model"
   ]
  },
  {
   "cell_type": "code",
   "execution_count": 54,
   "id": "86513aa6-792d-414f-913b-6192c444de33",
   "metadata": {
    "editable": true,
    "slideshow": {
     "slide_type": "slide"
    },
    "tags": []
   },
   "outputs": [
    {
     "data": {
      "text/html": [
       "<style>#sk-container-id-1 {color: black;}#sk-container-id-1 pre{padding: 0;}#sk-container-id-1 div.sk-toggleable {background-color: white;}#sk-container-id-1 label.sk-toggleable__label {cursor: pointer;display: block;width: 100%;margin-bottom: 0;padding: 0.3em;box-sizing: border-box;text-align: center;}#sk-container-id-1 label.sk-toggleable__label-arrow:before {content: \"▸\";float: left;margin-right: 0.25em;color: #696969;}#sk-container-id-1 label.sk-toggleable__label-arrow:hover:before {color: black;}#sk-container-id-1 div.sk-estimator:hover label.sk-toggleable__label-arrow:before {color: black;}#sk-container-id-1 div.sk-toggleable__content {max-height: 0;max-width: 0;overflow: hidden;text-align: left;background-color: #f0f8ff;}#sk-container-id-1 div.sk-toggleable__content pre {margin: 0.2em;color: black;border-radius: 0.25em;background-color: #f0f8ff;}#sk-container-id-1 input.sk-toggleable__control:checked~div.sk-toggleable__content {max-height: 200px;max-width: 100%;overflow: auto;}#sk-container-id-1 input.sk-toggleable__control:checked~label.sk-toggleable__label-arrow:before {content: \"▾\";}#sk-container-id-1 div.sk-estimator input.sk-toggleable__control:checked~label.sk-toggleable__label {background-color: #d4ebff;}#sk-container-id-1 div.sk-label input.sk-toggleable__control:checked~label.sk-toggleable__label {background-color: #d4ebff;}#sk-container-id-1 input.sk-hidden--visually {border: 0;clip: rect(1px 1px 1px 1px);clip: rect(1px, 1px, 1px, 1px);height: 1px;margin: -1px;overflow: hidden;padding: 0;position: absolute;width: 1px;}#sk-container-id-1 div.sk-estimator {font-family: monospace;background-color: #f0f8ff;border: 1px dotted black;border-radius: 0.25em;box-sizing: border-box;margin-bottom: 0.5em;}#sk-container-id-1 div.sk-estimator:hover {background-color: #d4ebff;}#sk-container-id-1 div.sk-parallel-item::after {content: \"\";width: 100%;border-bottom: 1px solid gray;flex-grow: 1;}#sk-container-id-1 div.sk-label:hover label.sk-toggleable__label {background-color: #d4ebff;}#sk-container-id-1 div.sk-serial::before {content: \"\";position: absolute;border-left: 1px solid gray;box-sizing: border-box;top: 0;bottom: 0;left: 50%;z-index: 0;}#sk-container-id-1 div.sk-serial {display: flex;flex-direction: column;align-items: center;background-color: white;padding-right: 0.2em;padding-left: 0.2em;position: relative;}#sk-container-id-1 div.sk-item {position: relative;z-index: 1;}#sk-container-id-1 div.sk-parallel {display: flex;align-items: stretch;justify-content: center;background-color: white;position: relative;}#sk-container-id-1 div.sk-item::before, #sk-container-id-1 div.sk-parallel-item::before {content: \"\";position: absolute;border-left: 1px solid gray;box-sizing: border-box;top: 0;bottom: 0;left: 50%;z-index: -1;}#sk-container-id-1 div.sk-parallel-item {display: flex;flex-direction: column;z-index: 1;position: relative;background-color: white;}#sk-container-id-1 div.sk-parallel-item:first-child::after {align-self: flex-end;width: 50%;}#sk-container-id-1 div.sk-parallel-item:last-child::after {align-self: flex-start;width: 50%;}#sk-container-id-1 div.sk-parallel-item:only-child::after {width: 0;}#sk-container-id-1 div.sk-dashed-wrapped {border: 1px dashed gray;margin: 0 0.4em 0.5em 0.4em;box-sizing: border-box;padding-bottom: 0.4em;background-color: white;}#sk-container-id-1 div.sk-label label {font-family: monospace;font-weight: bold;display: inline-block;line-height: 1.2em;}#sk-container-id-1 div.sk-label-container {text-align: center;}#sk-container-id-1 div.sk-container {/* jupyter's `normalize.less` sets `[hidden] { display: none; }` but bootstrap.min.css set `[hidden] { display: none !important; }` so we also need the `!important` here to be able to override the default hidden behavior on the sphinx rendered scikit-learn.org. See: https://github.com/scikit-learn/scikit-learn/issues/21755 */display: inline-block !important;position: relative;}#sk-container-id-1 div.sk-text-repr-fallback {display: none;}</style><div id=\"sk-container-id-1\" class=\"sk-top-container\"><div class=\"sk-text-repr-fallback\"><pre>GridSearchCV(cv=2,\n",
       "             estimator=Pipeline(steps=[(&#x27;cleaner&#x27;,\n",
       "                                        FunctionTransformer(func=&lt;function cleanup at 0x7face5a334c0&gt;)),\n",
       "                                       (&#x27;feature_engineer&#x27;,\n",
       "                                        FunctionTransformer(func=&lt;function new_features at 0x7facee103ce0&gt;)),\n",
       "                                       (&#x27;column_transformer&#x27;,\n",
       "                                        ColTransformer(transformers=[(&#x27;num&#x27;,\n",
       "                                                                      Pipeline(steps=[(&#x27;scaler&#x27;,\n",
       "                                                                                       StandardScaler())]),\n",
       "                                                                      &lt;sklearn.compose._column_transformer.make_co...\n",
       "                                        SelectFromModel(estimator=LinearSVC(dual=&#x27;auto&#x27;))),\n",
       "                                       (&#x27;oversampler&#x27;, SMOTE(random_state=0)),\n",
       "                                       (&#x27;normalizer&#x27;, Normalizer()),\n",
       "                                       (&#x27;predictor&#x27;,\n",
       "                                        GradientBoostingClassifier(random_state=0))]),\n",
       "             n_jobs=-1,\n",
       "             param_grid={&#x27;predictor__criterion&#x27;: [&#x27;friedman_mse&#x27;,\n",
       "                                                  &#x27;squared_error&#x27;],\n",
       "                         &#x27;predictor__max_depth&#x27;: [3, 5, 8],\n",
       "                         &#x27;predictor__max_features&#x27;: [&#x27;log2&#x27;, &#x27;sqrt&#x27;]},\n",
       "             scoring=&#x27;balanced_accuracy&#x27;)</pre><b>In a Jupyter environment, please rerun this cell to show the HTML representation or trust the notebook. <br />On GitHub, the HTML representation is unable to render, please try loading this page with nbviewer.org.</b></div><div class=\"sk-container\" hidden><div class=\"sk-item sk-dashed-wrapped\"><div class=\"sk-label-container\"><div class=\"sk-label sk-toggleable\"><input class=\"sk-toggleable__control sk-hidden--visually\" id=\"sk-estimator-id-1\" type=\"checkbox\" ><label for=\"sk-estimator-id-1\" class=\"sk-toggleable__label sk-toggleable__label-arrow\">GridSearchCV</label><div class=\"sk-toggleable__content\"><pre>GridSearchCV(cv=2,\n",
       "             estimator=Pipeline(steps=[(&#x27;cleaner&#x27;,\n",
       "                                        FunctionTransformer(func=&lt;function cleanup at 0x7face5a334c0&gt;)),\n",
       "                                       (&#x27;feature_engineer&#x27;,\n",
       "                                        FunctionTransformer(func=&lt;function new_features at 0x7facee103ce0&gt;)),\n",
       "                                       (&#x27;column_transformer&#x27;,\n",
       "                                        ColTransformer(transformers=[(&#x27;num&#x27;,\n",
       "                                                                      Pipeline(steps=[(&#x27;scaler&#x27;,\n",
       "                                                                                       StandardScaler())]),\n",
       "                                                                      &lt;sklearn.compose._column_transformer.make_co...\n",
       "                                        SelectFromModel(estimator=LinearSVC(dual=&#x27;auto&#x27;))),\n",
       "                                       (&#x27;oversampler&#x27;, SMOTE(random_state=0)),\n",
       "                                       (&#x27;normalizer&#x27;, Normalizer()),\n",
       "                                       (&#x27;predictor&#x27;,\n",
       "                                        GradientBoostingClassifier(random_state=0))]),\n",
       "             n_jobs=-1,\n",
       "             param_grid={&#x27;predictor__criterion&#x27;: [&#x27;friedman_mse&#x27;,\n",
       "                                                  &#x27;squared_error&#x27;],\n",
       "                         &#x27;predictor__max_depth&#x27;: [3, 5, 8],\n",
       "                         &#x27;predictor__max_features&#x27;: [&#x27;log2&#x27;, &#x27;sqrt&#x27;]},\n",
       "             scoring=&#x27;balanced_accuracy&#x27;)</pre></div></div></div><div class=\"sk-parallel\"><div class=\"sk-parallel-item\"><div class=\"sk-item\"><div class=\"sk-label-container\"><div class=\"sk-label sk-toggleable\"><input class=\"sk-toggleable__control sk-hidden--visually\" id=\"sk-estimator-id-2\" type=\"checkbox\" ><label for=\"sk-estimator-id-2\" class=\"sk-toggleable__label sk-toggleable__label-arrow\">estimator: Pipeline</label><div class=\"sk-toggleable__content\"><pre>Pipeline(steps=[(&#x27;cleaner&#x27;,\n",
       "                 FunctionTransformer(func=&lt;function cleanup at 0x7face5a334c0&gt;)),\n",
       "                (&#x27;feature_engineer&#x27;,\n",
       "                 FunctionTransformer(func=&lt;function new_features at 0x7facee103ce0&gt;)),\n",
       "                (&#x27;column_transformer&#x27;,\n",
       "                 ColTransformer(transformers=[(&#x27;num&#x27;,\n",
       "                                               Pipeline(steps=[(&#x27;scaler&#x27;,\n",
       "                                                                StandardScaler())]),\n",
       "                                               &lt;sklearn.compose._column_transformer.make_column_selector object at 0x7face...\n",
       "                                                                              sparse_output=False)),\n",
       "                                                               (&#x27;scaler&#x27;,\n",
       "                                                                StandardScaler())]),\n",
       "                                               &lt;sklearn.compose._column_transformer.make_column_selector object at 0x7facee14a750&gt;)],\n",
       "                                verbose_feature_names_out=False)),\n",
       "                (&#x27;feature_selector&#x27;,\n",
       "                 SelectFromModel(estimator=LinearSVC(dual=&#x27;auto&#x27;))),\n",
       "                (&#x27;oversampler&#x27;, SMOTE(random_state=0)),\n",
       "                (&#x27;normalizer&#x27;, Normalizer()),\n",
       "                (&#x27;predictor&#x27;, GradientBoostingClassifier(random_state=0))])</pre></div></div></div><div class=\"sk-serial\"><div class=\"sk-item\"><div class=\"sk-serial\"><div class=\"sk-item\"><div class=\"sk-estimator sk-toggleable\"><input class=\"sk-toggleable__control sk-hidden--visually\" id=\"sk-estimator-id-3\" type=\"checkbox\" ><label for=\"sk-estimator-id-3\" class=\"sk-toggleable__label sk-toggleable__label-arrow\">FunctionTransformer</label><div class=\"sk-toggleable__content\"><pre>FunctionTransformer(func=&lt;function cleanup at 0x7face5a334c0&gt;)</pre></div></div></div><div class=\"sk-item\"><div class=\"sk-estimator sk-toggleable\"><input class=\"sk-toggleable__control sk-hidden--visually\" id=\"sk-estimator-id-4\" type=\"checkbox\" ><label for=\"sk-estimator-id-4\" class=\"sk-toggleable__label sk-toggleable__label-arrow\">FunctionTransformer</label><div class=\"sk-toggleable__content\"><pre>FunctionTransformer(func=&lt;function new_features at 0x7facee103ce0&gt;)</pre></div></div></div><div class=\"sk-item sk-dashed-wrapped\"><div class=\"sk-label-container\"><div class=\"sk-label sk-toggleable\"><input class=\"sk-toggleable__control sk-hidden--visually\" id=\"sk-estimator-id-5\" type=\"checkbox\" ><label for=\"sk-estimator-id-5\" class=\"sk-toggleable__label sk-toggleable__label-arrow\">column_transformer: ColTransformer</label><div class=\"sk-toggleable__content\"><pre>ColTransformer(transformers=[(&#x27;num&#x27;,\n",
       "                              Pipeline(steps=[(&#x27;scaler&#x27;, StandardScaler())]),\n",
       "                              &lt;sklearn.compose._column_transformer.make_column_selector object at 0x7facee167550&gt;),\n",
       "                             (&#x27;cat&#x27;,\n",
       "                              Pipeline(steps=[(&#x27;onehotencoder&#x27;,\n",
       "                                               OneHotEncoder(handle_unknown=&#x27;ignore&#x27;,\n",
       "                                                             sparse_output=False)),\n",
       "                                              (&#x27;scaler&#x27;, StandardScaler())]),\n",
       "                              &lt;sklearn.compose._column_transformer.make_column_selector object at 0x7facee14a750&gt;)],\n",
       "               verbose_feature_names_out=False)</pre></div></div></div><div class=\"sk-parallel\"><div class=\"sk-parallel-item\"><div class=\"sk-item\"><div class=\"sk-label-container\"><div class=\"sk-label sk-toggleable\"><input class=\"sk-toggleable__control sk-hidden--visually\" id=\"sk-estimator-id-6\" type=\"checkbox\" ><label for=\"sk-estimator-id-6\" class=\"sk-toggleable__label sk-toggleable__label-arrow\">num</label><div class=\"sk-toggleable__content\"><pre>&lt;sklearn.compose._column_transformer.make_column_selector object at 0x7facee167550&gt;</pre></div></div></div><div class=\"sk-serial\"><div class=\"sk-item\"><div class=\"sk-serial\"><div class=\"sk-item\"><div class=\"sk-estimator sk-toggleable\"><input class=\"sk-toggleable__control sk-hidden--visually\" id=\"sk-estimator-id-7\" type=\"checkbox\" ><label for=\"sk-estimator-id-7\" class=\"sk-toggleable__label sk-toggleable__label-arrow\">StandardScaler</label><div class=\"sk-toggleable__content\"><pre>StandardScaler()</pre></div></div></div></div></div></div></div></div><div class=\"sk-parallel-item\"><div class=\"sk-item\"><div class=\"sk-label-container\"><div class=\"sk-label sk-toggleable\"><input class=\"sk-toggleable__control sk-hidden--visually\" id=\"sk-estimator-id-8\" type=\"checkbox\" ><label for=\"sk-estimator-id-8\" class=\"sk-toggleable__label sk-toggleable__label-arrow\">cat</label><div class=\"sk-toggleable__content\"><pre>&lt;sklearn.compose._column_transformer.make_column_selector object at 0x7facee14a750&gt;</pre></div></div></div><div class=\"sk-serial\"><div class=\"sk-item\"><div class=\"sk-serial\"><div class=\"sk-item\"><div class=\"sk-estimator sk-toggleable\"><input class=\"sk-toggleable__control sk-hidden--visually\" id=\"sk-estimator-id-9\" type=\"checkbox\" ><label for=\"sk-estimator-id-9\" class=\"sk-toggleable__label sk-toggleable__label-arrow\">OneHotEncoder</label><div class=\"sk-toggleable__content\"><pre>OneHotEncoder(handle_unknown=&#x27;ignore&#x27;, sparse_output=False)</pre></div></div></div><div class=\"sk-item\"><div class=\"sk-estimator sk-toggleable\"><input class=\"sk-toggleable__control sk-hidden--visually\" id=\"sk-estimator-id-10\" type=\"checkbox\" ><label for=\"sk-estimator-id-10\" class=\"sk-toggleable__label sk-toggleable__label-arrow\">StandardScaler</label><div class=\"sk-toggleable__content\"><pre>StandardScaler()</pre></div></div></div></div></div></div></div></div></div></div><div class=\"sk-item sk-dashed-wrapped\"><div class=\"sk-label-container\"><div class=\"sk-label sk-toggleable\"><input class=\"sk-toggleable__control sk-hidden--visually\" id=\"sk-estimator-id-11\" type=\"checkbox\" ><label for=\"sk-estimator-id-11\" class=\"sk-toggleable__label sk-toggleable__label-arrow\">feature_selector: SelectFromModel</label><div class=\"sk-toggleable__content\"><pre>SelectFromModel(estimator=LinearSVC(dual=&#x27;auto&#x27;))</pre></div></div></div><div class=\"sk-parallel\"><div class=\"sk-parallel-item\"><div class=\"sk-item\"><div class=\"sk-label-container\"><div class=\"sk-label sk-toggleable\"><input class=\"sk-toggleable__control sk-hidden--visually\" id=\"sk-estimator-id-12\" type=\"checkbox\" ><label for=\"sk-estimator-id-12\" class=\"sk-toggleable__label sk-toggleable__label-arrow\">estimator: LinearSVC</label><div class=\"sk-toggleable__content\"><pre>LinearSVC(dual=&#x27;auto&#x27;)</pre></div></div></div><div class=\"sk-serial\"><div class=\"sk-item\"><div class=\"sk-estimator sk-toggleable\"><input class=\"sk-toggleable__control sk-hidden--visually\" id=\"sk-estimator-id-13\" type=\"checkbox\" ><label for=\"sk-estimator-id-13\" class=\"sk-toggleable__label sk-toggleable__label-arrow\">LinearSVC</label><div class=\"sk-toggleable__content\"><pre>LinearSVC(dual=&#x27;auto&#x27;)</pre></div></div></div></div></div></div></div></div><div class=\"sk-item\"><div class=\"sk-estimator sk-toggleable\"><input class=\"sk-toggleable__control sk-hidden--visually\" id=\"sk-estimator-id-14\" type=\"checkbox\" ><label for=\"sk-estimator-id-14\" class=\"sk-toggleable__label sk-toggleable__label-arrow\">SMOTE</label><div class=\"sk-toggleable__content\"><pre>SMOTE(random_state=0)</pre></div></div></div><div class=\"sk-item\"><div class=\"sk-estimator sk-toggleable\"><input class=\"sk-toggleable__control sk-hidden--visually\" id=\"sk-estimator-id-15\" type=\"checkbox\" ><label for=\"sk-estimator-id-15\" class=\"sk-toggleable__label sk-toggleable__label-arrow\">Normalizer</label><div class=\"sk-toggleable__content\"><pre>Normalizer()</pre></div></div></div><div class=\"sk-item\"><div class=\"sk-estimator sk-toggleable\"><input class=\"sk-toggleable__control sk-hidden--visually\" id=\"sk-estimator-id-16\" type=\"checkbox\" ><label for=\"sk-estimator-id-16\" class=\"sk-toggleable__label sk-toggleable__label-arrow\">GradientBoostingClassifier</label><div class=\"sk-toggleable__content\"><pre>GradientBoostingClassifier(random_state=0)</pre></div></div></div></div></div></div></div></div></div></div></div></div>"
      ],
      "text/plain": [
       "GridSearchCV(cv=2,\n",
       "             estimator=Pipeline(steps=[('cleaner',\n",
       "                                        FunctionTransformer(func=<function cleanup at 0x7face5a334c0>)),\n",
       "                                       ('feature_engineer',\n",
       "                                        FunctionTransformer(func=<function new_features at 0x7facee103ce0>)),\n",
       "                                       ('column_transformer',\n",
       "                                        ColTransformer(transformers=[('num',\n",
       "                                                                      Pipeline(steps=[('scaler',\n",
       "                                                                                       StandardScaler())]),\n",
       "                                                                      <sklearn.compose._column_transformer.make_co...\n",
       "                                        SelectFromModel(estimator=LinearSVC(dual='auto'))),\n",
       "                                       ('oversampler', SMOTE(random_state=0)),\n",
       "                                       ('normalizer', Normalizer()),\n",
       "                                       ('predictor',\n",
       "                                        GradientBoostingClassifier(random_state=0))]),\n",
       "             n_jobs=-1,\n",
       "             param_grid={'predictor__criterion': ['friedman_mse',\n",
       "                                                  'squared_error'],\n",
       "                         'predictor__max_depth': [3, 5, 8],\n",
       "                         'predictor__max_features': ['log2', 'sqrt']},\n",
       "             scoring='balanced_accuracy')"
      ]
     },
     "execution_count": 54,
     "metadata": {},
     "output_type": "execute_result"
    }
   ],
   "source": [
    "from sklearn.model_selection import GridSearchCV\n",
    "\n",
    "\n",
    "parameters = {\n",
    "    \"predictor__max_depth\":[3, 5, 8],\n",
    "    \"predictor__max_features\": [\"log2\",\"sqrt\"],\n",
    "    \"predictor__criterion\": [\"friedman_mse\",  \"squared_error\"],\n",
    "}\n",
    "\n",
    "model = IMBPipeline([\n",
    "    ('cleaner', data_cleaner),\n",
    "    ('feature_engineer', feature_engineer),\n",
    "    ('column_transformer', column_transformer),\n",
    "    ('feature_selector', SelectFromModel(estimator=LinearSVC(dual='auto'))),\n",
    "    ('oversampler', SMOTE(random_state=0)),\n",
    "    ('normalizer', Normalizer()),\n",
    "    ('predictor', GradientBoostingClassifier(random_state=0)),\n",
    "])\n",
    "\n",
    "clf = GridSearchCV(model, parameters, cv=2, n_jobs=-1, scoring='balanced_accuracy')\n",
    "clf.fit(X, y)"
   ]
  },
  {
   "cell_type": "code",
   "execution_count": 55,
   "id": "d4bd97dd-adbb-4387-98ab-d307e24e6c31",
   "metadata": {
    "editable": true,
    "slideshow": {
     "slide_type": "fragment"
    },
    "tags": []
   },
   "outputs": [
    {
     "data": {
      "text/plain": [
       "{'predictor__criterion': 'squared_error',\n",
       " 'predictor__max_depth': 5,\n",
       " 'predictor__max_features': 'log2'}"
      ]
     },
     "execution_count": 55,
     "metadata": {},
     "output_type": "execute_result"
    }
   ],
   "source": [
    "clf.best_params_"
   ]
  },
  {
   "cell_type": "markdown",
   "id": "d187e020-c638-4c62-90fb-2bd915a3e48b",
   "metadata": {
    "editable": true,
    "slideshow": {
     "slide_type": "slide"
    },
    "tags": []
   },
   "source": [
    "### Linear models and NN"
   ]
  },
  {
   "cell_type": "code",
   "execution_count": 56,
   "id": "e53cd30d-49d7-45f0-8017-16550b9d6401",
   "metadata": {
    "editable": true,
    "slideshow": {
     "slide_type": "fragment"
    },
    "tags": []
   },
   "outputs": [
    {
     "data": {
      "text/html": [
       "<div>\n",
       "<style scoped>\n",
       "    .dataframe tbody tr th:only-of-type {\n",
       "        vertical-align: middle;\n",
       "    }\n",
       "\n",
       "    .dataframe tbody tr th {\n",
       "        vertical-align: top;\n",
       "    }\n",
       "\n",
       "    .dataframe thead th {\n",
       "        text-align: right;\n",
       "    }\n",
       "</style>\n",
       "<table border=\"1\" class=\"dataframe\">\n",
       "  <thead>\n",
       "    <tr style=\"text-align: right;\">\n",
       "      <th></th>\n",
       "      <th>cv_balanced_accuracy</th>\n",
       "    </tr>\n",
       "  </thead>\n",
       "  <tbody>\n",
       "    <tr>\n",
       "      <th>Perceptron()</th>\n",
       "      <td>0.604831</td>\n",
       "    </tr>\n",
       "    <tr>\n",
       "      <th>PassiveAggressiveClassifier()</th>\n",
       "      <td>0.623601</td>\n",
       "    </tr>\n",
       "    <tr>\n",
       "      <th>SGDClassifier(loss='log_loss')</th>\n",
       "      <td>0.674319</td>\n",
       "    </tr>\n",
       "    <tr>\n",
       "      <th>MLPClassifier(max_iter=300, solver='sgd')</th>\n",
       "      <td>0.679621</td>\n",
       "    </tr>\n",
       "  </tbody>\n",
       "</table>\n",
       "</div>"
      ],
      "text/plain": [
       "                                           cv_balanced_accuracy\n",
       "Perceptron()                                           0.604831\n",
       "PassiveAggressiveClassifier()                          0.623601\n",
       "SGDClassifier(loss='log_loss')                         0.674319\n",
       "MLPClassifier(max_iter=300, solver='sgd')              0.679621"
      ]
     },
     "execution_count": 56,
     "metadata": {},
     "output_type": "execute_result"
    }
   ],
   "source": [
    "from sklearn.linear_model import *\n",
    "from sklearn.neural_network import MLPClassifier\n",
    "from sklearn.model_selection import StratifiedKFold\n",
    "\n",
    "restab = {}\n",
    "for classifier in [\n",
    "    Perceptron(),\n",
    "    PassiveAggressiveClassifier(),\n",
    "    SGDClassifier(loss='log_loss'),\n",
    "    MLPClassifier(solver='sgd', max_iter=300),\n",
    "]:\n",
    "    model = IMBPipeline([\n",
    "        ('cleaner', data_cleaner),\n",
    "        ('feature_engineer', feature_engineer),\n",
    "        ('column_transformer', column_transformer),\n",
    "        ('feature_selector', SelectFromModel(estimator=SGDClassifier(loss='log_loss'))),\n",
    "        ('oversampler', SMOTE(random_state=0)),\n",
    "        ('normalizer', Normalizer()),\n",
    "        ('classifier', classifier),\n",
    "    ])\n",
    "    restab[str(classifier)] = score(model, X, y, method='cross_val_score')\n",
    "pd.DataFrame(restab).T"
   ]
  },
  {
   "attachments": {},
   "cell_type": "markdown",
   "id": "f632fa74-3f9b-4073-b50d-92d387ac107b",
   "metadata": {},
   "source": [
    "## External data\n",
    "\n",
    "Download from https://archive.ics.uci.edu/dataset/222/bank+marketing; very close to the dataset we have\n",
    "* No balance\n",
    "* Day-of-the-week instead of day-of-the-month\n",
    "* Slightly different categorical values\n",
    "* New features: emp.var.rate, cons.price.idx, cons.conf.idx, cons.conf.idx, nr.employed\n",
    "* More samples\n",
    "\n",
    "---\n",
    "\n",
    "Re usage:\n",
    "\n",
    "* In short, there's no easy way to map 1-1 from old dataset to this new dataset.\n",
    "* This means that we can use the dataset to see if there's an improvement in cross validation scores of our models,\n",
    "* but we won't be able to use the new dataset to predict the existing test set. \n",
    "* 15y ago and the link returns 404, so we can't try to get the new data from the source directly.\n",
    "\n",
    "To test your model using external data, simply replace 'traindata.txt' with 'bank-additional-full.csv'."
   ]
  },
  {
   "cell_type": "markdown",
   "id": "27447245-b45b-44db-961d-4dd6369b9433",
   "metadata": {},
   "source": [
    "## Performance on test set\n",
    "\n",
    "We consider 2 of the best models: MLPClassifer and BalancedBagging with GradientBoostingClassifier"
   ]
  },
  {
   "cell_type": "code",
   "execution_count": 57,
   "id": "6137d436-2ab9-4080-a2be-bf36c09f823a",
   "metadata": {},
   "outputs": [],
   "source": [
    "X_test, y_test = read_data('testdata.txt')\n",
    "\n",
    "def metric_report(y_test, y_pred):\n",
    "    return {\n",
    "        'accuracy': accuracy_score(y_test, y_pred),\n",
    "        'precision_pos': precision_score(y_test, y_pred),\n",
    "        'recall_pos': recall_score(y_test, y_pred),\n",
    "        'f1': f1_score(y_test, y_pred),\n",
    "        'f1_micro': f1_score(y_test, y_pred, average='micro'),\n",
    "        'f1_macro': f1_score(y_test, y_pred, average='macro'),\n",
    "        'f2': fbeta_score(y_test, y_pred, beta=2),\n",
    "        'mcc': matthews_corrcoef(y_test, y_pred),\n",
    "        'balanced_accuracy': balanced_accuracy_score(y_test, y_pred),\n",
    "    }"
   ]
  },
  {
   "cell_type": "code",
   "execution_count": 58,
   "id": "a32eb9bc-3675-4f4e-880f-2088be501697",
   "metadata": {},
   "outputs": [
    {
     "data": {
      "text/html": [
       "<div>\n",
       "<style scoped>\n",
       "    .dataframe tbody tr th:only-of-type {\n",
       "        vertical-align: middle;\n",
       "    }\n",
       "\n",
       "    .dataframe tbody tr th {\n",
       "        vertical-align: top;\n",
       "    }\n",
       "\n",
       "    .dataframe thead th {\n",
       "        text-align: right;\n",
       "    }\n",
       "</style>\n",
       "<table border=\"1\" class=\"dataframe\">\n",
       "  <thead>\n",
       "    <tr style=\"text-align: right;\">\n",
       "      <th></th>\n",
       "      <th>accuracy</th>\n",
       "      <th>precision_pos</th>\n",
       "      <th>recall_pos</th>\n",
       "      <th>f1</th>\n",
       "      <th>f1_micro</th>\n",
       "      <th>f1_macro</th>\n",
       "      <th>f2</th>\n",
       "      <th>mcc</th>\n",
       "      <th>balanced_accuracy</th>\n",
       "    </tr>\n",
       "  </thead>\n",
       "  <tbody>\n",
       "    <tr>\n",
       "      <th>MLPClassifier(max_iter=300, solver='sgd')</th>\n",
       "      <td>0.800951</td>\n",
       "      <td>0.316337</td>\n",
       "      <td>0.603970</td>\n",
       "      <td>0.415205</td>\n",
       "      <td>0.800951</td>\n",
       "      <td>0.647634</td>\n",
       "      <td>0.511036</td>\n",
       "      <td>0.332614</td>\n",
       "      <td>0.71551</td>\n",
       "    </tr>\n",
       "    <tr>\n",
       "      <th>BalancedBaggingClassifier(estimator=GradientBoostingClassifier(criterion='squared_error',\\n                                                               max_depth=5,\\n                                                               max_features='log2',\\n                                                               random_state=0))</th>\n",
       "      <td>0.805595</td>\n",
       "      <td>0.323944</td>\n",
       "      <td>0.608696</td>\n",
       "      <td>0.422850</td>\n",
       "      <td>0.805595</td>\n",
       "      <td>0.652981</td>\n",
       "      <td>0.517685</td>\n",
       "      <td>0.341784</td>\n",
       "      <td>0.72019</td>\n",
       "    </tr>\n",
       "  </tbody>\n",
       "</table>\n",
       "</div>"
      ],
      "text/plain": [
       "                                                    accuracy  precision_pos  \\\n",
       "MLPClassifier(max_iter=300, solver='sgd')           0.800951       0.316337   \n",
       "BalancedBaggingClassifier(estimator=GradientBoo...  0.805595       0.323944   \n",
       "\n",
       "                                                    recall_pos        f1  \\\n",
       "MLPClassifier(max_iter=300, solver='sgd')             0.603970  0.415205   \n",
       "BalancedBaggingClassifier(estimator=GradientBoo...    0.608696  0.422850   \n",
       "\n",
       "                                                    f1_micro  f1_macro  \\\n",
       "MLPClassifier(max_iter=300, solver='sgd')           0.800951  0.647634   \n",
       "BalancedBaggingClassifier(estimator=GradientBoo...  0.805595  0.652981   \n",
       "\n",
       "                                                          f2       mcc  \\\n",
       "MLPClassifier(max_iter=300, solver='sgd')           0.511036  0.332614   \n",
       "BalancedBaggingClassifier(estimator=GradientBoo...  0.517685  0.341784   \n",
       "\n",
       "                                                    balanced_accuracy  \n",
       "MLPClassifier(max_iter=300, solver='sgd')                     0.71551  \n",
       "BalancedBaggingClassifier(estimator=GradientBoo...            0.72019  "
      ]
     },
     "execution_count": 58,
     "metadata": {},
     "output_type": "execute_result"
    }
   ],
   "source": [
    "res = {}\n",
    "for oversampler, classifier in [\n",
    "    (SMOTE(random_state=0), MLPClassifier(solver='sgd', max_iter=300)),\n",
    "    ('passthrough', BalancedBaggingClassifier(\n",
    "        GradientBoostingClassifier(\n",
    "            random_state=0,\n",
    "            max_depth=5,\n",
    "            max_features='log2',\n",
    "            criterion=\"squared_error\"))),\n",
    "]:\n",
    "    model = IMBPipeline([\n",
    "        ('cleaner', data_cleaner),\n",
    "        ('feature_engineer', feature_engineer),\n",
    "        ('column_transformer', column_transformer),\n",
    "        ('feature_selector', SelectFromModel(estimator=GradientBoostingClassifier())),\n",
    "        ('oversampler', oversampler),\n",
    "        ('normalizer', Normalizer()),\n",
    "        ('classifier', classifier),\n",
    "    ])\n",
    "    model.fit(X, y)\n",
    "    y_pred = model.predict(X_test)\n",
    "    res[str(classifier)] = metric_report(y_test, y_pred)\n",
    "pd.DataFrame(res).T"
   ]
  }
 ],
 "metadata": {
  "kernelspec": {
   "display_name": "Python 3 (ipykernel)",
   "language": "python",
   "name": "python3"
  },
  "language_info": {
   "codemirror_mode": {
    "name": "ipython",
    "version": 3
   },
   "file_extension": ".py",
   "mimetype": "text/x-python",
   "name": "python",
   "nbconvert_exporter": "python",
   "pygments_lexer": "ipython3",
   "version": "3.11.5"
  },
  "toc": {
   "base_numbering": 1
  }
 },
 "nbformat": 4,
 "nbformat_minor": 5
}
